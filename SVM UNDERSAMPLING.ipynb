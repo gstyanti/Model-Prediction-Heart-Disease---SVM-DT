{
 "cells": [
  {
   "cell_type": "markdown",
   "metadata": {
    "id": "DQVOfKwHlTSy"
   },
   "source": [
    "# Import Library\n"
   ]
  },
  {
   "cell_type": "code",
   "execution_count": 1,
   "metadata": {
    "id": "oOBDy8Sf0Kly"
   },
   "outputs": [],
   "source": [
    "import pandas as pd\n",
    "import numpy as np\n",
    "import seaborn as sns\n",
    "import matplotlib.pyplot as plt\n",
    "import missingno as msno\n",
    "\n",
    "from sklearn.metrics import confusion_matrix, accuracy_score, classification_report\n",
    "from sklearn.svm import SVC\n",
    "from sklearn.preprocessing import StandardScaler\n",
    "from sklearn.model_selection import train_test_split\n",
    "from sklearn.feature_selection import SelectKBest, chi2\n",
    "from sklearn.feature_selection import RFE\n",
    "from sklearn.linear_model import LinearRegression\n",
    "from collections import Counter\n",
    "from imblearn.under_sampling import RandomUnderSampler\n",
    "from sklearn.model_selection import train_test_split\n",
    "from collections import Counter\n",
    "from sklearn.model_selection import StratifiedKFold\n",
    "from sklearn.svm import SVC"
   ]
  },
  {
   "cell_type": "markdown",
   "metadata": {
    "id": "IZkDrCiPkF9Z"
   },
   "source": [
    "## Import Data"
   ]
  },
  {
   "cell_type": "code",
   "execution_count": 2,
   "metadata": {
    "id": "i7z1aGyAaHLt"
   },
   "outputs": [
    {
     "data": {
      "text/html": [
       "<div>\n",
       "<style scoped>\n",
       "    .dataframe tbody tr th:only-of-type {\n",
       "        vertical-align: middle;\n",
       "    }\n",
       "\n",
       "    .dataframe tbody tr th {\n",
       "        vertical-align: top;\n",
       "    }\n",
       "\n",
       "    .dataframe thead th {\n",
       "        text-align: right;\n",
       "    }\n",
       "</style>\n",
       "<table border=\"1\" class=\"dataframe\">\n",
       "  <thead>\n",
       "    <tr style=\"text-align: right;\">\n",
       "      <th></th>\n",
       "      <th>HeartDisease</th>\n",
       "      <th>BMI</th>\n",
       "      <th>Smoking</th>\n",
       "      <th>AlcoholDrinking</th>\n",
       "      <th>Stroke</th>\n",
       "      <th>PhysicalHealth</th>\n",
       "      <th>MentalHealth</th>\n",
       "      <th>DiffWalking</th>\n",
       "      <th>Sex</th>\n",
       "      <th>AgeCategory</th>\n",
       "      <th>Race</th>\n",
       "      <th>Diabetic</th>\n",
       "      <th>PhysicalActivity</th>\n",
       "      <th>GenHealth</th>\n",
       "      <th>SleepTime</th>\n",
       "      <th>Asthma</th>\n",
       "      <th>KidneyDisease</th>\n",
       "      <th>SkinCancer</th>\n",
       "    </tr>\n",
       "  </thead>\n",
       "  <tbody>\n",
       "    <tr>\n",
       "      <th>0</th>\n",
       "      <td>0</td>\n",
       "      <td>20.34</td>\n",
       "      <td>0</td>\n",
       "      <td>0</td>\n",
       "      <td>1</td>\n",
       "      <td>0</td>\n",
       "      <td>0</td>\n",
       "      <td>0</td>\n",
       "      <td>1</td>\n",
       "      <td>13</td>\n",
       "      <td>1</td>\n",
       "      <td>0</td>\n",
       "      <td>1</td>\n",
       "      <td>2</td>\n",
       "      <td>7</td>\n",
       "      <td>0</td>\n",
       "      <td>0</td>\n",
       "      <td>0</td>\n",
       "    </tr>\n",
       "    <tr>\n",
       "      <th>1</th>\n",
       "      <td>0</td>\n",
       "      <td>26.58</td>\n",
       "      <td>1</td>\n",
       "      <td>0</td>\n",
       "      <td>0</td>\n",
       "      <td>20</td>\n",
       "      <td>30</td>\n",
       "      <td>0</td>\n",
       "      <td>0</td>\n",
       "      <td>10</td>\n",
       "      <td>1</td>\n",
       "      <td>1</td>\n",
       "      <td>1</td>\n",
       "      <td>4</td>\n",
       "      <td>8</td>\n",
       "      <td>1</td>\n",
       "      <td>0</td>\n",
       "      <td>0</td>\n",
       "    </tr>\n",
       "    <tr>\n",
       "      <th>2</th>\n",
       "      <td>0</td>\n",
       "      <td>23.71</td>\n",
       "      <td>0</td>\n",
       "      <td>0</td>\n",
       "      <td>0</td>\n",
       "      <td>28</td>\n",
       "      <td>0</td>\n",
       "      <td>1</td>\n",
       "      <td>1</td>\n",
       "      <td>5</td>\n",
       "      <td>1</td>\n",
       "      <td>0</td>\n",
       "      <td>1</td>\n",
       "      <td>2</td>\n",
       "      <td>8</td>\n",
       "      <td>0</td>\n",
       "      <td>0</td>\n",
       "      <td>0</td>\n",
       "    </tr>\n",
       "    <tr>\n",
       "      <th>3</th>\n",
       "      <td>1</td>\n",
       "      <td>28.87</td>\n",
       "      <td>1</td>\n",
       "      <td>0</td>\n",
       "      <td>0</td>\n",
       "      <td>6</td>\n",
       "      <td>0</td>\n",
       "      <td>1</td>\n",
       "      <td>1</td>\n",
       "      <td>12</td>\n",
       "      <td>2</td>\n",
       "      <td>0</td>\n",
       "      <td>0</td>\n",
       "      <td>4</td>\n",
       "      <td>12</td>\n",
       "      <td>0</td>\n",
       "      <td>0</td>\n",
       "      <td>0</td>\n",
       "    </tr>\n",
       "    <tr>\n",
       "      <th>4</th>\n",
       "      <td>0</td>\n",
       "      <td>31.64</td>\n",
       "      <td>1</td>\n",
       "      <td>0</td>\n",
       "      <td>0</td>\n",
       "      <td>5</td>\n",
       "      <td>0</td>\n",
       "      <td>1</td>\n",
       "      <td>1</td>\n",
       "      <td>13</td>\n",
       "      <td>1</td>\n",
       "      <td>1</td>\n",
       "      <td>0</td>\n",
       "      <td>3</td>\n",
       "      <td>9</td>\n",
       "      <td>1</td>\n",
       "      <td>0</td>\n",
       "      <td>0</td>\n",
       "    </tr>\n",
       "  </tbody>\n",
       "</table>\n",
       "</div>"
      ],
      "text/plain": [
       "   HeartDisease    BMI  Smoking  AlcoholDrinking  Stroke  PhysicalHealth  \\\n",
       "0             0  20.34        0                0       1               0   \n",
       "1             0  26.58        1                0       0              20   \n",
       "2             0  23.71        0                0       0              28   \n",
       "3             1  28.87        1                0       0               6   \n",
       "4             0  31.64        1                0       0               5   \n",
       "\n",
       "   MentalHealth  DiffWalking  Sex  AgeCategory  Race  Diabetic  \\\n",
       "0             0            0    1           13     1         0   \n",
       "1            30            0    0           10     1         1   \n",
       "2             0            1    1            5     1         0   \n",
       "3             0            1    1           12     2         0   \n",
       "4             0            1    1           13     1         1   \n",
       "\n",
       "   PhysicalActivity  GenHealth  SleepTime  Asthma  KidneyDisease  SkinCancer  \n",
       "0                 1          2          7       0              0           0  \n",
       "1                 1          4          8       1              0           0  \n",
       "2                 1          2          8       0              0           0  \n",
       "3                 0          4         12       0              0           0  \n",
       "4                 0          3          9       1              0           0  "
      ]
     },
     "execution_count": 2,
     "metadata": {},
     "output_type": "execute_result"
    }
   ],
   "source": [
    "df=pd.read_csv(\"Jantungafteroutlier.csv\")\n",
    "df.head()"
   ]
  },
  {
   "cell_type": "code",
   "execution_count": 3,
   "metadata": {
    "colab": {
     "base_uri": "https://localhost:8080/",
     "height": 226
    },
    "id": "igJaIzfoyBSK",
    "outputId": "bea3640d-3ad9-4e3e-faa5-d21eb600b98c"
   },
   "outputs": [
    {
     "data": {
      "text/html": [
       "<div>\n",
       "<style scoped>\n",
       "    .dataframe tbody tr th:only-of-type {\n",
       "        vertical-align: middle;\n",
       "    }\n",
       "\n",
       "    .dataframe tbody tr th {\n",
       "        vertical-align: top;\n",
       "    }\n",
       "\n",
       "    .dataframe thead th {\n",
       "        text-align: right;\n",
       "    }\n",
       "</style>\n",
       "<table border=\"1\" class=\"dataframe\">\n",
       "  <thead>\n",
       "    <tr style=\"text-align: right;\">\n",
       "      <th></th>\n",
       "      <th>HeartDisease</th>\n",
       "      <th>BMI</th>\n",
       "      <th>Smoking</th>\n",
       "      <th>AlcoholDrinking</th>\n",
       "      <th>Stroke</th>\n",
       "      <th>PhysicalHealth</th>\n",
       "      <th>MentalHealth</th>\n",
       "      <th>DiffWalking</th>\n",
       "      <th>Sex</th>\n",
       "      <th>AgeCategory</th>\n",
       "      <th>Race</th>\n",
       "      <th>Diabetic</th>\n",
       "      <th>PhysicalActivity</th>\n",
       "      <th>GenHealth</th>\n",
       "      <th>SleepTime</th>\n",
       "      <th>Asthma</th>\n",
       "      <th>KidneyDisease</th>\n",
       "      <th>SkinCancer</th>\n",
       "    </tr>\n",
       "  </thead>\n",
       "  <tbody>\n",
       "    <tr>\n",
       "      <th>0</th>\n",
       "      <td>0</td>\n",
       "      <td>20.34</td>\n",
       "      <td>0</td>\n",
       "      <td>0</td>\n",
       "      <td>1</td>\n",
       "      <td>0</td>\n",
       "      <td>0</td>\n",
       "      <td>0</td>\n",
       "      <td>1</td>\n",
       "      <td>13</td>\n",
       "      <td>1</td>\n",
       "      <td>0</td>\n",
       "      <td>1</td>\n",
       "      <td>2</td>\n",
       "      <td>7</td>\n",
       "      <td>0</td>\n",
       "      <td>0</td>\n",
       "      <td>0</td>\n",
       "    </tr>\n",
       "    <tr>\n",
       "      <th>1</th>\n",
       "      <td>0</td>\n",
       "      <td>26.58</td>\n",
       "      <td>1</td>\n",
       "      <td>0</td>\n",
       "      <td>0</td>\n",
       "      <td>20</td>\n",
       "      <td>30</td>\n",
       "      <td>0</td>\n",
       "      <td>0</td>\n",
       "      <td>10</td>\n",
       "      <td>1</td>\n",
       "      <td>1</td>\n",
       "      <td>1</td>\n",
       "      <td>4</td>\n",
       "      <td>8</td>\n",
       "      <td>1</td>\n",
       "      <td>0</td>\n",
       "      <td>0</td>\n",
       "    </tr>\n",
       "    <tr>\n",
       "      <th>2</th>\n",
       "      <td>0</td>\n",
       "      <td>23.71</td>\n",
       "      <td>0</td>\n",
       "      <td>0</td>\n",
       "      <td>0</td>\n",
       "      <td>28</td>\n",
       "      <td>0</td>\n",
       "      <td>1</td>\n",
       "      <td>1</td>\n",
       "      <td>5</td>\n",
       "      <td>1</td>\n",
       "      <td>0</td>\n",
       "      <td>1</td>\n",
       "      <td>2</td>\n",
       "      <td>8</td>\n",
       "      <td>0</td>\n",
       "      <td>0</td>\n",
       "      <td>0</td>\n",
       "    </tr>\n",
       "    <tr>\n",
       "      <th>3</th>\n",
       "      <td>1</td>\n",
       "      <td>28.87</td>\n",
       "      <td>1</td>\n",
       "      <td>0</td>\n",
       "      <td>0</td>\n",
       "      <td>6</td>\n",
       "      <td>0</td>\n",
       "      <td>1</td>\n",
       "      <td>1</td>\n",
       "      <td>12</td>\n",
       "      <td>2</td>\n",
       "      <td>0</td>\n",
       "      <td>0</td>\n",
       "      <td>4</td>\n",
       "      <td>12</td>\n",
       "      <td>0</td>\n",
       "      <td>0</td>\n",
       "      <td>0</td>\n",
       "    </tr>\n",
       "    <tr>\n",
       "      <th>4</th>\n",
       "      <td>0</td>\n",
       "      <td>31.64</td>\n",
       "      <td>1</td>\n",
       "      <td>0</td>\n",
       "      <td>0</td>\n",
       "      <td>5</td>\n",
       "      <td>0</td>\n",
       "      <td>1</td>\n",
       "      <td>1</td>\n",
       "      <td>13</td>\n",
       "      <td>1</td>\n",
       "      <td>1</td>\n",
       "      <td>0</td>\n",
       "      <td>3</td>\n",
       "      <td>9</td>\n",
       "      <td>1</td>\n",
       "      <td>0</td>\n",
       "      <td>0</td>\n",
       "    </tr>\n",
       "  </tbody>\n",
       "</table>\n",
       "</div>"
      ],
      "text/plain": [
       "   HeartDisease    BMI  Smoking  AlcoholDrinking  Stroke  PhysicalHealth  \\\n",
       "0             0  20.34        0                0       1               0   \n",
       "1             0  26.58        1                0       0              20   \n",
       "2             0  23.71        0                0       0              28   \n",
       "3             1  28.87        1                0       0               6   \n",
       "4             0  31.64        1                0       0               5   \n",
       "\n",
       "   MentalHealth  DiffWalking  Sex  AgeCategory  Race  Diabetic  \\\n",
       "0             0            0    1           13     1         0   \n",
       "1            30            0    0           10     1         1   \n",
       "2             0            1    1            5     1         0   \n",
       "3             0            1    1           12     2         0   \n",
       "4             0            1    1           13     1         1   \n",
       "\n",
       "   PhysicalActivity  GenHealth  SleepTime  Asthma  KidneyDisease  SkinCancer  \n",
       "0                 1          2          7       0              0           0  \n",
       "1                 1          4          8       1              0           0  \n",
       "2                 1          2          8       0              0           0  \n",
       "3                 0          4         12       0              0           0  \n",
       "4                 0          3          9       1              0           0  "
      ]
     },
     "execution_count": 3,
     "metadata": {},
     "output_type": "execute_result"
    }
   ],
   "source": [
    "# Memanggil 25 data dari keseluruhan data\n",
    "df.head(5)"
   ]
  },
  {
   "cell_type": "code",
   "execution_count": 4,
   "metadata": {},
   "outputs": [
    {
     "name": "stdout",
     "output_type": "stream",
     "text": [
      "HeartDisease        0\n",
      "BMI                 0\n",
      "Smoking             0\n",
      "AlcoholDrinking     0\n",
      "Stroke              0\n",
      "PhysicalHealth      0\n",
      "MentalHealth        0\n",
      "DiffWalking         0\n",
      "Sex                 0\n",
      "AgeCategory         0\n",
      "Race                0\n",
      "Diabetic            0\n",
      "PhysicalActivity    0\n",
      "GenHealth           0\n",
      "SleepTime           0\n",
      "Asthma              0\n",
      "KidneyDisease       0\n",
      "SkinCancer          0\n",
      "dtype: int64\n"
     ]
    }
   ],
   "source": [
    "print(df.isnull().sum())"
   ]
  },
  {
   "cell_type": "markdown",
   "metadata": {
    "id": "oFCCjaqSnvvR"
   },
   "source": [
    "## Data Understanding\n"
   ]
  },
  {
   "cell_type": "code",
   "execution_count": 5,
   "metadata": {},
   "outputs": [
    {
     "name": "stdout",
     "output_type": "stream",
     "text": [
      "<class 'pandas.core.frame.DataFrame'>\n",
      "RangeIndex: 289976 entries, 0 to 289975\n",
      "Data columns (total 18 columns):\n",
      " #   Column            Non-Null Count   Dtype  \n",
      "---  ------            --------------   -----  \n",
      " 0   HeartDisease      289976 non-null  int64  \n",
      " 1   BMI               289976 non-null  float64\n",
      " 2   Smoking           289976 non-null  int64  \n",
      " 3   AlcoholDrinking   289976 non-null  int64  \n",
      " 4   Stroke            289976 non-null  int64  \n",
      " 5   PhysicalHealth    289976 non-null  int64  \n",
      " 6   MentalHealth      289976 non-null  int64  \n",
      " 7   DiffWalking       289976 non-null  int64  \n",
      " 8   Sex               289976 non-null  int64  \n",
      " 9   AgeCategory       289976 non-null  int64  \n",
      " 10  Race              289976 non-null  int64  \n",
      " 11  Diabetic          289976 non-null  int64  \n",
      " 12  PhysicalActivity  289976 non-null  int64  \n",
      " 13  GenHealth         289976 non-null  int64  \n",
      " 14  SleepTime         289976 non-null  int64  \n",
      " 15  Asthma            289976 non-null  int64  \n",
      " 16  KidneyDisease     289976 non-null  int64  \n",
      " 17  SkinCancer        289976 non-null  int64  \n",
      "dtypes: float64(1), int64(17)\n",
      "memory usage: 39.8 MB\n"
     ]
    }
   ],
   "source": [
    "df.info()"
   ]
  },
  {
   "cell_type": "code",
   "execution_count": 6,
   "metadata": {
    "colab": {
     "base_uri": "https://localhost:8080/"
    },
    "id": "DTFml8J8ydqU",
    "outputId": "6a773b72-fb6c-4138-f4ee-be886887976d"
   },
   "outputs": [
    {
     "name": "stdout",
     "output_type": "stream",
     "text": [
      "Data Shape:  (289976, 18)\n"
     ]
    }
   ],
   "source": [
    "print (\"Data Shape: \", df.shape)"
   ]
  },
  {
   "cell_type": "code",
   "execution_count": 7,
   "metadata": {
    "colab": {
     "base_uri": "https://localhost:8080/"
    },
    "id": "tjt7Ss93yN9i",
    "outputId": "73d86e1d-1cc0-4321-feca-05b1eb1f0956"
   },
   "outputs": [
    {
     "name": "stdout",
     "output_type": "stream",
     "text": [
      "<class 'pandas.core.frame.DataFrame'>\n",
      "RangeIndex: 289976 entries, 0 to 289975\n",
      "Data columns (total 18 columns):\n",
      " #   Column            Non-Null Count   Dtype  \n",
      "---  ------            --------------   -----  \n",
      " 0   HeartDisease      289976 non-null  int64  \n",
      " 1   BMI               289976 non-null  float64\n",
      " 2   Smoking           289976 non-null  int64  \n",
      " 3   AlcoholDrinking   289976 non-null  int64  \n",
      " 4   Stroke            289976 non-null  int64  \n",
      " 5   PhysicalHealth    289976 non-null  int64  \n",
      " 6   MentalHealth      289976 non-null  int64  \n",
      " 7   DiffWalking       289976 non-null  int64  \n",
      " 8   Sex               289976 non-null  int64  \n",
      " 9   AgeCategory       289976 non-null  int64  \n",
      " 10  Race              289976 non-null  int64  \n",
      " 11  Diabetic          289976 non-null  int64  \n",
      " 12  PhysicalActivity  289976 non-null  int64  \n",
      " 13  GenHealth         289976 non-null  int64  \n",
      " 14  SleepTime         289976 non-null  int64  \n",
      " 15  Asthma            289976 non-null  int64  \n",
      " 16  KidneyDisease     289976 non-null  int64  \n",
      " 17  SkinCancer        289976 non-null  int64  \n",
      "dtypes: float64(1), int64(17)\n",
      "memory usage: 39.8 MB\n"
     ]
    }
   ],
   "source": [
    "df.info()"
   ]
  },
  {
   "cell_type": "code",
   "execution_count": 8,
   "metadata": {
    "colab": {
     "base_uri": "https://localhost:8080/",
     "height": 320
    },
    "id": "9JNavLsCyneH",
    "outputId": "9d555c66-8835-453a-fa5b-65489f302c5f"
   },
   "outputs": [
    {
     "data": {
      "text/html": [
       "<div>\n",
       "<style scoped>\n",
       "    .dataframe tbody tr th:only-of-type {\n",
       "        vertical-align: middle;\n",
       "    }\n",
       "\n",
       "    .dataframe tbody tr th {\n",
       "        vertical-align: top;\n",
       "    }\n",
       "\n",
       "    .dataframe thead th {\n",
       "        text-align: right;\n",
       "    }\n",
       "</style>\n",
       "<table border=\"1\" class=\"dataframe\">\n",
       "  <thead>\n",
       "    <tr style=\"text-align: right;\">\n",
       "      <th></th>\n",
       "      <th>HeartDisease</th>\n",
       "      <th>BMI</th>\n",
       "      <th>Smoking</th>\n",
       "      <th>AlcoholDrinking</th>\n",
       "      <th>Stroke</th>\n",
       "      <th>PhysicalHealth</th>\n",
       "      <th>MentalHealth</th>\n",
       "      <th>DiffWalking</th>\n",
       "      <th>Sex</th>\n",
       "      <th>AgeCategory</th>\n",
       "      <th>Race</th>\n",
       "      <th>Diabetic</th>\n",
       "      <th>PhysicalActivity</th>\n",
       "      <th>GenHealth</th>\n",
       "      <th>SleepTime</th>\n",
       "      <th>Asthma</th>\n",
       "      <th>KidneyDisease</th>\n",
       "      <th>SkinCancer</th>\n",
       "    </tr>\n",
       "  </thead>\n",
       "  <tbody>\n",
       "    <tr>\n",
       "      <th>count</th>\n",
       "      <td>289976.000000</td>\n",
       "      <td>289976.000000</td>\n",
       "      <td>289976.000000</td>\n",
       "      <td>289976.000000</td>\n",
       "      <td>289976.000000</td>\n",
       "      <td>289976.000000</td>\n",
       "      <td>289976.000000</td>\n",
       "      <td>289976.000000</td>\n",
       "      <td>289976.000000</td>\n",
       "      <td>289976.000000</td>\n",
       "      <td>289976.000000</td>\n",
       "      <td>289976.000000</td>\n",
       "      <td>289976.000000</td>\n",
       "      <td>289976.000000</td>\n",
       "      <td>289976.000000</td>\n",
       "      <td>289976.000000</td>\n",
       "      <td>289976.000000</td>\n",
       "      <td>289976.0</td>\n",
       "    </tr>\n",
       "    <tr>\n",
       "      <th>mean</th>\n",
       "      <td>0.077224</td>\n",
       "      <td>28.393972</td>\n",
       "      <td>0.407113</td>\n",
       "      <td>0.068557</td>\n",
       "      <td>0.034799</td>\n",
       "      <td>3.265391</td>\n",
       "      <td>3.983602</td>\n",
       "      <td>0.131680</td>\n",
       "      <td>0.526878</td>\n",
       "      <td>7.213280</td>\n",
       "      <td>1.749265</td>\n",
       "      <td>0.190281</td>\n",
       "      <td>0.775540</td>\n",
       "      <td>2.388036</td>\n",
       "      <td>7.078072</td>\n",
       "      <td>0.134104</td>\n",
       "      <td>0.033099</td>\n",
       "      <td>0.0</td>\n",
       "    </tr>\n",
       "    <tr>\n",
       "      <th>std</th>\n",
       "      <td>0.266946</td>\n",
       "      <td>6.425643</td>\n",
       "      <td>0.491297</td>\n",
       "      <td>0.252700</td>\n",
       "      <td>0.183272</td>\n",
       "      <td>7.809927</td>\n",
       "      <td>8.010688</td>\n",
       "      <td>0.338143</td>\n",
       "      <td>0.499278</td>\n",
       "      <td>3.539096</td>\n",
       "      <td>1.492525</td>\n",
       "      <td>0.495650</td>\n",
       "      <td>0.417227</td>\n",
       "      <td>1.038344</td>\n",
       "      <td>1.436614</td>\n",
       "      <td>0.340765</td>\n",
       "      <td>0.178896</td>\n",
       "      <td>0.0</td>\n",
       "    </tr>\n",
       "    <tr>\n",
       "      <th>min</th>\n",
       "      <td>0.000000</td>\n",
       "      <td>12.020000</td>\n",
       "      <td>0.000000</td>\n",
       "      <td>0.000000</td>\n",
       "      <td>0.000000</td>\n",
       "      <td>0.000000</td>\n",
       "      <td>0.000000</td>\n",
       "      <td>0.000000</td>\n",
       "      <td>0.000000</td>\n",
       "      <td>1.000000</td>\n",
       "      <td>1.000000</td>\n",
       "      <td>0.000000</td>\n",
       "      <td>0.000000</td>\n",
       "      <td>1.000000</td>\n",
       "      <td>1.000000</td>\n",
       "      <td>0.000000</td>\n",
       "      <td>0.000000</td>\n",
       "      <td>0.0</td>\n",
       "    </tr>\n",
       "    <tr>\n",
       "      <th>25%</th>\n",
       "      <td>0.000000</td>\n",
       "      <td>24.030000</td>\n",
       "      <td>0.000000</td>\n",
       "      <td>0.000000</td>\n",
       "      <td>0.000000</td>\n",
       "      <td>0.000000</td>\n",
       "      <td>0.000000</td>\n",
       "      <td>0.000000</td>\n",
       "      <td>0.000000</td>\n",
       "      <td>4.000000</td>\n",
       "      <td>1.000000</td>\n",
       "      <td>0.000000</td>\n",
       "      <td>1.000000</td>\n",
       "      <td>2.000000</td>\n",
       "      <td>6.000000</td>\n",
       "      <td>0.000000</td>\n",
       "      <td>0.000000</td>\n",
       "      <td>0.0</td>\n",
       "    </tr>\n",
       "    <tr>\n",
       "      <th>50%</th>\n",
       "      <td>0.000000</td>\n",
       "      <td>27.370000</td>\n",
       "      <td>0.000000</td>\n",
       "      <td>0.000000</td>\n",
       "      <td>0.000000</td>\n",
       "      <td>0.000000</td>\n",
       "      <td>0.000000</td>\n",
       "      <td>0.000000</td>\n",
       "      <td>1.000000</td>\n",
       "      <td>8.000000</td>\n",
       "      <td>1.000000</td>\n",
       "      <td>0.000000</td>\n",
       "      <td>1.000000</td>\n",
       "      <td>2.000000</td>\n",
       "      <td>7.000000</td>\n",
       "      <td>0.000000</td>\n",
       "      <td>0.000000</td>\n",
       "      <td>0.0</td>\n",
       "    </tr>\n",
       "    <tr>\n",
       "      <th>75%</th>\n",
       "      <td>0.000000</td>\n",
       "      <td>31.570000</td>\n",
       "      <td>1.000000</td>\n",
       "      <td>0.000000</td>\n",
       "      <td>0.000000</td>\n",
       "      <td>2.000000</td>\n",
       "      <td>4.000000</td>\n",
       "      <td>0.000000</td>\n",
       "      <td>1.000000</td>\n",
       "      <td>10.000000</td>\n",
       "      <td>2.000000</td>\n",
       "      <td>0.000000</td>\n",
       "      <td>1.000000</td>\n",
       "      <td>3.000000</td>\n",
       "      <td>8.000000</td>\n",
       "      <td>0.000000</td>\n",
       "      <td>0.000000</td>\n",
       "      <td>0.0</td>\n",
       "    </tr>\n",
       "    <tr>\n",
       "      <th>max</th>\n",
       "      <td>1.000000</td>\n",
       "      <td>94.850000</td>\n",
       "      <td>1.000000</td>\n",
       "      <td>1.000000</td>\n",
       "      <td>1.000000</td>\n",
       "      <td>30.000000</td>\n",
       "      <td>30.000000</td>\n",
       "      <td>1.000000</td>\n",
       "      <td>1.000000</td>\n",
       "      <td>13.000000</td>\n",
       "      <td>6.000000</td>\n",
       "      <td>3.000000</td>\n",
       "      <td>1.000000</td>\n",
       "      <td>5.000000</td>\n",
       "      <td>24.000000</td>\n",
       "      <td>1.000000</td>\n",
       "      <td>1.000000</td>\n",
       "      <td>0.0</td>\n",
       "    </tr>\n",
       "  </tbody>\n",
       "</table>\n",
       "</div>"
      ],
      "text/plain": [
       "        HeartDisease            BMI        Smoking  AlcoholDrinking  \\\n",
       "count  289976.000000  289976.000000  289976.000000    289976.000000   \n",
       "mean        0.077224      28.393972       0.407113         0.068557   \n",
       "std         0.266946       6.425643       0.491297         0.252700   \n",
       "min         0.000000      12.020000       0.000000         0.000000   \n",
       "25%         0.000000      24.030000       0.000000         0.000000   \n",
       "50%         0.000000      27.370000       0.000000         0.000000   \n",
       "75%         0.000000      31.570000       1.000000         0.000000   \n",
       "max         1.000000      94.850000       1.000000         1.000000   \n",
       "\n",
       "              Stroke  PhysicalHealth   MentalHealth    DiffWalking  \\\n",
       "count  289976.000000   289976.000000  289976.000000  289976.000000   \n",
       "mean        0.034799        3.265391       3.983602       0.131680   \n",
       "std         0.183272        7.809927       8.010688       0.338143   \n",
       "min         0.000000        0.000000       0.000000       0.000000   \n",
       "25%         0.000000        0.000000       0.000000       0.000000   \n",
       "50%         0.000000        0.000000       0.000000       0.000000   \n",
       "75%         0.000000        2.000000       4.000000       0.000000   \n",
       "max         1.000000       30.000000      30.000000       1.000000   \n",
       "\n",
       "                 Sex    AgeCategory           Race       Diabetic  \\\n",
       "count  289976.000000  289976.000000  289976.000000  289976.000000   \n",
       "mean        0.526878       7.213280       1.749265       0.190281   \n",
       "std         0.499278       3.539096       1.492525       0.495650   \n",
       "min         0.000000       1.000000       1.000000       0.000000   \n",
       "25%         0.000000       4.000000       1.000000       0.000000   \n",
       "50%         1.000000       8.000000       1.000000       0.000000   \n",
       "75%         1.000000      10.000000       2.000000       0.000000   \n",
       "max         1.000000      13.000000       6.000000       3.000000   \n",
       "\n",
       "       PhysicalActivity      GenHealth      SleepTime         Asthma  \\\n",
       "count     289976.000000  289976.000000  289976.000000  289976.000000   \n",
       "mean           0.775540       2.388036       7.078072       0.134104   \n",
       "std            0.417227       1.038344       1.436614       0.340765   \n",
       "min            0.000000       1.000000       1.000000       0.000000   \n",
       "25%            1.000000       2.000000       6.000000       0.000000   \n",
       "50%            1.000000       2.000000       7.000000       0.000000   \n",
       "75%            1.000000       3.000000       8.000000       0.000000   \n",
       "max            1.000000       5.000000      24.000000       1.000000   \n",
       "\n",
       "       KidneyDisease  SkinCancer  \n",
       "count  289976.000000    289976.0  \n",
       "mean        0.033099         0.0  \n",
       "std         0.178896         0.0  \n",
       "min         0.000000         0.0  \n",
       "25%         0.000000         0.0  \n",
       "50%         0.000000         0.0  \n",
       "75%         0.000000         0.0  \n",
       "max         1.000000         0.0  "
      ]
     },
     "execution_count": 8,
     "metadata": {},
     "output_type": "execute_result"
    }
   ],
   "source": [
    "df.describe()"
   ]
  },
  {
   "cell_type": "code",
   "execution_count": 9,
   "metadata": {
    "colab": {
     "base_uri": "https://localhost:8080/"
    },
    "id": "rjwvVPz2y1TL",
    "outputId": "2397daf3-e0a2-4c52-f9ca-8fb07de4ebfb"
   },
   "outputs": [
    {
     "data": {
      "text/plain": [
       "HeartDisease\n",
       "0    267583\n",
       "1     22393\n",
       "Name: count, dtype: int64"
      ]
     },
     "execution_count": 9,
     "metadata": {},
     "output_type": "execute_result"
    }
   ],
   "source": [
    "df.HeartDisease.value_counts()"
   ]
  },
  {
   "cell_type": "code",
   "execution_count": 10,
   "metadata": {},
   "outputs": [
    {
     "name": "stdout",
     "output_type": "stream",
     "text": [
      "Jumlah masing-masing kelas:\n",
      "HeartDisease\n",
      "0    267583\n",
      "1     22393\n",
      "Name: count, dtype: int64\n",
      "\n",
      "Rasio ketidakseimbangan:\n",
      "0.08368618335245513\n"
     ]
    }
   ],
   "source": [
    "# Menghitung jumlah masing-masing kelas\n",
    "class_counts = df['HeartDisease'].value_counts()\n",
    "\n",
    "# Menampilkan jumlah masing-masing kelas\n",
    "print(\"Jumlah masing-masing kelas:\")\n",
    "print(class_counts)\n",
    "\n",
    "# Mengidentifikasi kelas mayoritas dan minoritas\n",
    "kelas_mayoritas = class_counts.max()\n",
    "kelas_minoritas = class_counts.min()\n",
    "\n",
    "# Menghitung rasio ketidakseimbangan\n",
    "rasio_ketidakseimbangan = kelas_minoritas / kelas_mayoritas\n",
    "\n",
    "# Menampilkan rasio ketidakseimbangan\n",
    "print(\"\\nRasio ketidakseimbangan:\")\n",
    "print(rasio_ketidakseimbangan)"
   ]
  },
  {
   "cell_type": "markdown",
   "metadata": {
    "id": "ZL-XMCgH6fUC"
   },
   "source": [
    "##Cleaning Data"
   ]
  },
  {
   "cell_type": "code",
   "execution_count": 11,
   "metadata": {
    "colab": {
     "base_uri": "https://localhost:8080/"
    },
    "id": "XW2Q8H9R6F3F",
    "outputId": "971e5e6f-d1e1-4f2e-b80a-3f9874047a97"
   },
   "outputs": [
    {
     "data": {
      "text/plain": [
       "17551"
      ]
     },
     "execution_count": 11,
     "metadata": {},
     "output_type": "execute_result"
    }
   ],
   "source": [
    "df.duplicated().sum()\n",
    "##print(duplicated)"
   ]
  },
  {
   "cell_type": "code",
   "execution_count": 12,
   "metadata": {
    "id": "LrtzGHhZ6ooz"
   },
   "outputs": [],
   "source": [
    "df = df.drop_duplicates()"
   ]
  },
  {
   "cell_type": "code",
   "execution_count": 13,
   "metadata": {
    "colab": {
     "base_uri": "https://localhost:8080/"
    },
    "id": "rREogpew6vJQ",
    "outputId": "bf1c9224-dd86-46fb-8f8b-1734e7b28d40"
   },
   "outputs": [
    {
     "data": {
      "text/plain": [
       "0"
      ]
     },
     "execution_count": 13,
     "metadata": {},
     "output_type": "execute_result"
    }
   ],
   "source": [
    "df.duplicated().sum()\n",
    "\n",
    "#print(duplicated)"
   ]
  },
  {
   "cell_type": "code",
   "execution_count": 14,
   "metadata": {},
   "outputs": [
    {
     "data": {
      "text/plain": [
       "HeartDisease\n",
       "0    250132\n",
       "1     22293\n",
       "Name: count, dtype: int64"
      ]
     },
     "execution_count": 14,
     "metadata": {},
     "output_type": "execute_result"
    }
   ],
   "source": [
    "df.HeartDisease.value_counts()\n"
   ]
  },
  {
   "cell_type": "code",
   "execution_count": 15,
   "metadata": {
    "colab": {
     "base_uri": "https://localhost:8080/"
    },
    "id": "QW_W9T7aaYLC",
    "outputId": "1669f2df-b541-43bb-e991-dc7b2760f2a5"
   },
   "outputs": [
    {
     "data": {
      "text/plain": [
       "HeartDisease        0\n",
       "BMI                 0\n",
       "Smoking             0\n",
       "AlcoholDrinking     0\n",
       "Stroke              0\n",
       "PhysicalHealth      0\n",
       "MentalHealth        0\n",
       "DiffWalking         0\n",
       "Sex                 0\n",
       "AgeCategory         0\n",
       "Race                0\n",
       "Diabetic            0\n",
       "PhysicalActivity    0\n",
       "GenHealth           0\n",
       "SleepTime           0\n",
       "Asthma              0\n",
       "KidneyDisease       0\n",
       "SkinCancer          0\n",
       "dtype: int64"
      ]
     },
     "execution_count": 15,
     "metadata": {},
     "output_type": "execute_result"
    }
   ],
   "source": [
    "df.isnull().sum()"
   ]
  },
  {
   "cell_type": "code",
   "execution_count": 16,
   "metadata": {
    "colab": {
     "base_uri": "https://localhost:8080/",
     "height": 226
    },
    "id": "jirZnsWa_GOc",
    "outputId": "4887d310-e665-4745-e659-2ce15c5e5fb6"
   },
   "outputs": [
    {
     "data": {
      "text/html": [
       "<div>\n",
       "<style scoped>\n",
       "    .dataframe tbody tr th:only-of-type {\n",
       "        vertical-align: middle;\n",
       "    }\n",
       "\n",
       "    .dataframe tbody tr th {\n",
       "        vertical-align: top;\n",
       "    }\n",
       "\n",
       "    .dataframe thead th {\n",
       "        text-align: right;\n",
       "    }\n",
       "</style>\n",
       "<table border=\"1\" class=\"dataframe\">\n",
       "  <thead>\n",
       "    <tr style=\"text-align: right;\">\n",
       "      <th></th>\n",
       "      <th>HeartDisease</th>\n",
       "      <th>BMI</th>\n",
       "      <th>Smoking</th>\n",
       "      <th>AlcoholDrinking</th>\n",
       "      <th>Stroke</th>\n",
       "      <th>PhysicalHealth</th>\n",
       "      <th>MentalHealth</th>\n",
       "      <th>DiffWalking</th>\n",
       "      <th>Sex</th>\n",
       "      <th>AgeCategory</th>\n",
       "      <th>Race</th>\n",
       "      <th>Diabetic</th>\n",
       "      <th>PhysicalActivity</th>\n",
       "      <th>GenHealth</th>\n",
       "      <th>SleepTime</th>\n",
       "      <th>Asthma</th>\n",
       "      <th>KidneyDisease</th>\n",
       "      <th>SkinCancer</th>\n",
       "    </tr>\n",
       "  </thead>\n",
       "  <tbody>\n",
       "    <tr>\n",
       "      <th>0</th>\n",
       "      <td>0</td>\n",
       "      <td>20.34</td>\n",
       "      <td>0</td>\n",
       "      <td>0</td>\n",
       "      <td>1</td>\n",
       "      <td>0</td>\n",
       "      <td>0</td>\n",
       "      <td>0</td>\n",
       "      <td>1</td>\n",
       "      <td>13</td>\n",
       "      <td>1</td>\n",
       "      <td>0</td>\n",
       "      <td>1</td>\n",
       "      <td>2</td>\n",
       "      <td>7</td>\n",
       "      <td>0</td>\n",
       "      <td>0</td>\n",
       "      <td>0</td>\n",
       "    </tr>\n",
       "    <tr>\n",
       "      <th>1</th>\n",
       "      <td>0</td>\n",
       "      <td>26.58</td>\n",
       "      <td>1</td>\n",
       "      <td>0</td>\n",
       "      <td>0</td>\n",
       "      <td>20</td>\n",
       "      <td>30</td>\n",
       "      <td>0</td>\n",
       "      <td>0</td>\n",
       "      <td>10</td>\n",
       "      <td>1</td>\n",
       "      <td>1</td>\n",
       "      <td>1</td>\n",
       "      <td>4</td>\n",
       "      <td>8</td>\n",
       "      <td>1</td>\n",
       "      <td>0</td>\n",
       "      <td>0</td>\n",
       "    </tr>\n",
       "    <tr>\n",
       "      <th>2</th>\n",
       "      <td>0</td>\n",
       "      <td>23.71</td>\n",
       "      <td>0</td>\n",
       "      <td>0</td>\n",
       "      <td>0</td>\n",
       "      <td>28</td>\n",
       "      <td>0</td>\n",
       "      <td>1</td>\n",
       "      <td>1</td>\n",
       "      <td>5</td>\n",
       "      <td>1</td>\n",
       "      <td>0</td>\n",
       "      <td>1</td>\n",
       "      <td>2</td>\n",
       "      <td>8</td>\n",
       "      <td>0</td>\n",
       "      <td>0</td>\n",
       "      <td>0</td>\n",
       "    </tr>\n",
       "    <tr>\n",
       "      <th>3</th>\n",
       "      <td>1</td>\n",
       "      <td>28.87</td>\n",
       "      <td>1</td>\n",
       "      <td>0</td>\n",
       "      <td>0</td>\n",
       "      <td>6</td>\n",
       "      <td>0</td>\n",
       "      <td>1</td>\n",
       "      <td>1</td>\n",
       "      <td>12</td>\n",
       "      <td>2</td>\n",
       "      <td>0</td>\n",
       "      <td>0</td>\n",
       "      <td>4</td>\n",
       "      <td>12</td>\n",
       "      <td>0</td>\n",
       "      <td>0</td>\n",
       "      <td>0</td>\n",
       "    </tr>\n",
       "    <tr>\n",
       "      <th>4</th>\n",
       "      <td>0</td>\n",
       "      <td>31.64</td>\n",
       "      <td>1</td>\n",
       "      <td>0</td>\n",
       "      <td>0</td>\n",
       "      <td>5</td>\n",
       "      <td>0</td>\n",
       "      <td>1</td>\n",
       "      <td>1</td>\n",
       "      <td>13</td>\n",
       "      <td>1</td>\n",
       "      <td>1</td>\n",
       "      <td>0</td>\n",
       "      <td>3</td>\n",
       "      <td>9</td>\n",
       "      <td>1</td>\n",
       "      <td>0</td>\n",
       "      <td>0</td>\n",
       "    </tr>\n",
       "  </tbody>\n",
       "</table>\n",
       "</div>"
      ],
      "text/plain": [
       "   HeartDisease    BMI  Smoking  AlcoholDrinking  Stroke  PhysicalHealth  \\\n",
       "0             0  20.34        0                0       1               0   \n",
       "1             0  26.58        1                0       0              20   \n",
       "2             0  23.71        0                0       0              28   \n",
       "3             1  28.87        1                0       0               6   \n",
       "4             0  31.64        1                0       0               5   \n",
       "\n",
       "   MentalHealth  DiffWalking  Sex  AgeCategory  Race  Diabetic  \\\n",
       "0             0            0    1           13     1         0   \n",
       "1            30            0    0           10     1         1   \n",
       "2             0            1    1            5     1         0   \n",
       "3             0            1    1           12     2         0   \n",
       "4             0            1    1           13     1         1   \n",
       "\n",
       "   PhysicalActivity  GenHealth  SleepTime  Asthma  KidneyDisease  SkinCancer  \n",
       "0                 1          2          7       0              0           0  \n",
       "1                 1          4          8       1              0           0  \n",
       "2                 1          2          8       0              0           0  \n",
       "3                 0          4         12       0              0           0  \n",
       "4                 0          3          9       1              0           0  "
      ]
     },
     "execution_count": 16,
     "metadata": {},
     "output_type": "execute_result"
    }
   ],
   "source": [
    "df.head()"
   ]
  },
  {
   "cell_type": "markdown",
   "metadata": {
    "id": "dIosecVTk2gq"
   },
   "source": [
    "## Exploratory Data Analysis (EDA)"
   ]
  },
  {
   "cell_type": "code",
   "execution_count": 17,
   "metadata": {
    "colab": {
     "base_uri": "https://localhost:8080/",
     "height": 385
    },
    "id": "UH7BwjdQhvaa",
    "outputId": "125f96ae-3424-486c-bf54-22ec96e39cdd"
   },
   "outputs": [
    {
     "data": {
      "image/png": "[encoded data removed]",
      "text/plain": [
       "<Figure size 1600x500 with 3 Axes>"
      ]
     },
     "metadata": {},
     "output_type": "display_data"
    }
   ],
   "source": [
    "msno.bar(df, figsize = (16,5),color = \"#7B68EE\")\n",
    "plt.show()"
   ]
  },
  {
   "cell_type": "code",
   "execution_count": 18,
   "metadata": {
    "colab": {
     "base_uri": "https://localhost:8080/"
    },
    "id": "96UCKl0FgYQv",
    "outputId": "95ce3203-3f33-4aa4-d524-bff7c09d54fc"
   },
   "outputs": [
    {
     "name": "stdout",
     "output_type": "stream",
     "text": [
      "Feature 'HeartDisease' has '2' unique values\n",
      "Feature 'BMI' has '3569' unique values\n",
      "Feature 'Smoking' has '2' unique values\n",
      "Feature 'AlcoholDrinking' has '2' unique values\n",
      "Feature 'Stroke' has '2' unique values\n",
      "Feature 'PhysicalHealth' has '31' unique values\n",
      "Feature 'MentalHealth' has '31' unique values\n",
      "Feature 'DiffWalking' has '2' unique values\n",
      "Feature 'Sex' has '2' unique values\n",
      "Feature 'AgeCategory' has '13' unique values\n",
      "Feature 'Race' has '6' unique values\n",
      "Feature 'Diabetic' has '4' unique values\n",
      "Feature 'PhysicalActivity' has '2' unique values\n",
      "Feature 'GenHealth' has '5' unique values\n",
      "Feature 'SleepTime' has '24' unique values\n",
      "Feature 'Asthma' has '2' unique values\n",
      "Feature 'KidneyDisease' has '2' unique values\n",
      "Feature 'SkinCancer' has '1' unique values\n"
     ]
    }
   ],
   "source": [
    "#gambaran mengenai distribusi nilai dalam setiap kolom\n",
    "for column_name in df.columns:\n",
    "    unique_values = len(df[column_name].unique())\n",
    "    print(\"Feature '{column_name}' has '{unique_values}' unique values\".format(column_name = column_name,unique_values=unique_values))"
   ]
  },
  {
   "cell_type": "markdown",
   "metadata": {
    "id": "6rnFeC7ZJiob"
   },
   "source": [
    "Terlihat terdapat data outlier pada variabel BMI, namun karena data BMI ini penting jadi tidak akan di hapus data outlier ini"
   ]
  },
  {
   "cell_type": "markdown",
   "metadata": {
    "id": "7PhoJ0xXpLd3"
   },
   "source": [
    "## Transformasi Data"
   ]
  },
  {
   "cell_type": "code",
   "execution_count": 19,
   "metadata": {
    "colab": {
     "base_uri": "https://localhost:8080/"
    },
    "id": "FChc2_2QMI7O",
    "outputId": "33ca3625-d0d7-4d48-ca31-8bdd8dbb6188"
   },
   "outputs": [
    {
     "name": "stdout",
     "output_type": "stream",
     "text": [
      "[[-0.29853801 -1.24976316 -0.84632003 ... -0.40672427 -0.19106671\n",
      "   0.        ]\n",
      " [-0.29853801 -0.29671238  1.18158612 ...  2.45866814 -0.19106671\n",
      "   0.        ]\n",
      " [-0.29853801 -0.73505465 -0.84632003 ... -0.40672427 -0.19106671\n",
      "   0.        ]\n",
      " ...\n",
      " [-0.29853801 -0.65410642 -0.84632003 ... -0.40672427 -0.19106671\n",
      "   0.        ]\n",
      " [-0.29853801  0.65481108 -0.84632003 ... -0.40672427 -0.19106671\n",
      "   0.        ]\n",
      " [-0.29853801  2.75488291 -0.84632003 ... -0.40672427 -0.19106671\n",
      "   0.        ]]\n"
     ]
    }
   ],
   "source": [
    "# Scaling\n",
    "## membantu meningkatkan performa model machine learning dan mempermudah interpretasi hasil model\n",
    "scaler = StandardScaler()\n",
    "scaled_df = scaler.fit_transform(df)\n",
    "print(scaled_df)"
   ]
  },
  {
   "cell_type": "markdown",
   "metadata": {},
   "source": [
    "UNDERSAMPLING"
   ]
  },
  {
   "cell_type": "code",
   "execution_count": 20,
   "metadata": {
    "colab": {
     "base_uri": "https://localhost:8080/",
     "height": 573
    },
    "id": "wajBzKqSfKDY",
    "outputId": "672620d3-254d-4757-88c2-53fd6bdd4a36"
   },
   "outputs": [
    {
     "name": "stderr",
     "output_type": "stream",
     "text": [
      "C:\\Users\\M S I\\AppData\\Local\\Temp\\ipykernel_1168\\1611175011.py:1: FutureWarning: \n",
      "\n",
      "Passing `palette` without assigning `hue` is deprecated and will be removed in v0.14.0. Assign the `x` variable to `hue` and set `legend=False` for the same effect.\n",
      "\n",
      "  sns.countplot(x='HeartDisease',data=df, palette='pastel')\n"
     ]
    },
    {
     "data": {
      "text/plain": [
       "<Axes: xlabel='HeartDisease', ylabel='count'>"
      ]
     },
     "execution_count": 20,
     "metadata": {},
     "output_type": "execute_result"
    },
    {
     "data": {
      "image/png": "[encoded data removed]",
      "text/plain": [
       "<Figure size 640x480 with 1 Axes>"
      ]
     },
     "metadata": {},
     "output_type": "display_data"
    }
   ],
   "source": [
    "sns.countplot(x='HeartDisease',data=df, palette='pastel')"
   ]
  },
  {
   "cell_type": "code",
   "execution_count": 21,
   "metadata": {},
   "outputs": [
    {
     "name": "stdout",
     "output_type": "stream",
     "text": [
      "HeartDisease\n",
      "0    22293\n",
      "1    22293\n",
      "Name: count, dtype: int64\n"
     ]
    }
   ],
   "source": [
    "import pandas as pd\n",
    "from imblearn.under_sampling import RandomUnderSampler\n",
    "\n",
    "\n",
    "# Separate features and target\n",
    "X = df.drop('HeartDisease', axis=1)  # Replace 'target_column' with your target column name\n",
    "y = df['HeartDisease']\n",
    "\n",
    "# Create an undersampler object\n",
    "rus = RandomUnderSampler(random_state=42)\n",
    "\n",
    "# Fit and apply undersampling to the data\n",
    "X_resampled, y_resampled = rus.fit_resample(X, y)\n",
    "\n",
    "# Create a new DataFrame with the undersampled data\n",
    "undersampled_data = pd.DataFrame(X_resampled, columns=X.columns)\n",
    "undersampled_data['HeartDisease'] = y_resampled\n",
    "\n",
    "# Print the class distribution in the undersampled data\n",
    "print(undersampled_data['HeartDisease'].value_counts())"
   ]
  },
  {
   "cell_type": "code",
   "execution_count": 22,
   "metadata": {
    "colab": {
     "base_uri": "https://localhost:8080/"
    },
    "id": "uRQVPbvb-yDa",
    "outputId": "8d10d32f-37f7-4ad2-b984-df79a6653929"
   },
   "outputs": [
    {
     "name": "stdout",
     "output_type": "stream",
     "text": [
      "(272425, 17)\n",
      "(272425,)\n"
     ]
    }
   ],
   "source": [
    "# sebelum smote\n",
    "print(X.shape)\n",
    "print(y.shape)"
   ]
  },
  {
   "cell_type": "code",
   "execution_count": 23,
   "metadata": {
    "colab": {
     "base_uri": "https://localhost:8080/"
    },
    "id": "3ie3dFIsARzy",
    "outputId": "541e0f9d-bd01-4641-c0ac-e20ce4a18ab0"
   },
   "outputs": [
    {
     "name": "stdout",
     "output_type": "stream",
     "text": [
      "(44586, 17)\n",
      "(44586,)\n"
     ]
    }
   ],
   "source": [
    "# jumlah data setelah dilakukan undersampling\n",
    "print(X_resampled.shape)\n",
    "print(y_resampled.shape)"
   ]
  },
  {
   "cell_type": "markdown",
   "metadata": {},
   "source": []
  },
  {
   "cell_type": "code",
   "execution_count": 24,
   "metadata": {
    "colab": {
     "base_uri": "https://localhost:8080/",
     "height": 542
    },
    "id": "z5TWuH-iAvtb",
    "outputId": "414544fd-f940-4bf2-c499-71601acf8c0f"
   },
   "outputs": [
    {
     "data": {
      "image/png": "[encoded data removed]",
      "text/plain": [
       "<Figure size 900x600 with 1 Axes>"
      ]
     },
     "metadata": {},
     "output_type": "display_data"
    }
   ],
   "source": [
    "fig = plt.subplots(figsize=(9,6))\n",
    "sns.histplot(data=y_resampled)\n",
    "plt.show()\n"
   ]
  },
  {
   "cell_type": "code",
   "execution_count": 25,
   "metadata": {},
   "outputs": [
    {
     "name": "stdout",
     "output_type": "stream",
     "text": [
      "Jumlah masing-masing kelas:\n",
      "HeartDisease\n",
      "0    250132\n",
      "1     22293\n",
      "Name: count, dtype: int64\n",
      "\n",
      "Rasio masing-masing kelas:\n",
      "HeartDisease\n",
      "0    0.918168\n",
      "1    0.081832\n",
      "Name: count, dtype: float64\n",
      "\n",
      "Rasio masing-masing kelas (dalam persen):\n",
      "HeartDisease\n",
      "0    91.81683\n",
      "1     8.18317\n",
      "Name: count, dtype: float64\n"
     ]
    }
   ],
   "source": [
    "# Menghitung jumlah masing-masing kelas\n",
    "class_counts = df['HeartDisease'].value_counts()\n",
    "\n",
    "# Menampilkan jumlah masing-masing kelas\n",
    "print(\"Jumlah masing-masing kelas:\")\n",
    "print(class_counts)\n",
    "\n",
    "# Menghitung rasio\n",
    "total = class_counts.sum()\n",
    "class_ratios = class_counts / total\n",
    "\n",
    "# Menampilkan rasio\n",
    "print(\"\\nRasio masing-masing kelas:\")\n",
    "print(class_ratios)\n",
    "\n",
    "# Menampilkan rasio dalam bentuk persentase\n",
    "print(\"\\nRasio masing-masing kelas (dalam persen):\")\n",
    "print(class_ratios * 100)"
   ]
  },
  {
   "cell_type": "markdown",
   "metadata": {
    "id": "e8uwqfNspekq"
   },
   "source": [
    "##Metode berhasil diterapkan, saat ini data penderita penyakit jantung sudah sama dengan yang tidak menderita penyakit jantung"
   ]
  },
  {
   "cell_type": "markdown",
   "metadata": {
    "id": "WmzxBNSSqv1e"
   },
   "source": [
    "## split data\n"
   ]
  },
  {
   "cell_type": "code",
   "execution_count": 26,
   "metadata": {
    "colab": {
     "base_uri": "https://localhost:8080/"
    },
    "id": "996RGngXrCP2",
    "outputId": "13e1f4a9-a092-4013-b901-c0de7fdd6ba4"
   },
   "outputs": [
    {
     "name": "stdout",
     "output_type": "stream",
     "text": [
      "X :  (44586, 17)\n",
      "y :  (44586,)\n"
     ]
    }
   ],
   "source": [
    "X = df.drop(columns=['HeartDisease'])\n",
    "y = df['HeartDisease']\n",
    "\n",
    "print(\"X : \", X_resampled.shape)\n",
    "print(\"y : \", y_resampled.shape)\n"
   ]
  },
  {
   "cell_type": "code",
   "execution_count": 27,
   "metadata": {
    "id": "-zvw_qgTqyf6"
   },
   "outputs": [],
   "source": [
    "scaler = StandardScaler()\n",
    "scaler.fit(X)\n",
    "X = scaler.transform(X)"
   ]
  },
  {
   "cell_type": "code",
   "execution_count": 28,
   "metadata": {},
   "outputs": [],
   "source": [
    "scaler = StandardScaler()\n",
    "\n",
    "# Fit the scaler on the resampled data\n",
    "scaler.fit(X_resampled)\n",
    "\n",
    "# Transform the resampled data using the fitted scaler\n",
    "X_transformed = scaler.transform(X_resampled)\n"
   ]
  },
  {
   "cell_type": "code",
   "execution_count": 29,
   "metadata": {
    "id": "IFkdvGu23f0a"
   },
   "outputs": [],
   "source": [
    "from sklearn.model_selection import train_test_split\n",
    "\n",
    "# Tentukan ukuran test set (misal: 20%)\n",
    "test_size = 0.2\n",
    "\n",
    "# Split data menjadi training set dan test set\n",
    "X_train, X_test, y_train, y_test = train_test_split(X_resampled, y_resampled, test_size=test_size, random_state=100)\n"
   ]
  },
  {
   "cell_type": "markdown",
   "metadata": {
    "id": "lC3twbBCpr32"
   },
   "source": [
    "## Modelling SVM (support vector machine)"
   ]
  },
  {
   "cell_type": "code",
   "execution_count": 30,
   "metadata": {
    "id": "R97wUyQIpeAu"
   },
   "outputs": [
    {
     "name": "stdout",
     "output_type": "stream",
     "text": [
      "              precision    recall  f1-score   support\n",
      "\n",
      "           0       0.78      0.73      0.75      4433\n",
      "           1       0.75      0.80      0.77      4485\n",
      "\n",
      "    accuracy                           0.76      8918\n",
      "   macro avg       0.77      0.76      0.76      8918\n",
      "weighted avg       0.77      0.76      0.76      8918\n",
      "\n",
      "Akurasi SVM : 76.44%\n"
     ]
    }
   ],
   "source": [
    "\n",
    "clf = SVC(kernel = 'linear')\n",
    "clf.fit(X_train, y_train)\n",
    "\n",
    "y_pred = clf.predict(X_test)\n",
    "CLF_acc = accuracy_score(y_pred, y_test)\n",
    "\n",
    "print(classification_report(y_test, y_pred))\n",
    "print(\"Akurasi SVM : {:.2f}%\".format(CLF_acc*100))"
   ]
  },
  {
   "cell_type": "code",
   "execution_count": 31,
   "metadata": {},
   "outputs": [
    {
     "name": "stdout",
     "output_type": "stream",
     "text": [
      "Confusion Matrix:\n",
      "[[3230 1203]\n",
      " [ 898 3587]]\n"
     ]
    },
    {
     "data": {
      "image/png": "[encoded data removed]",
      "text/plain": [
       "<Figure size 640x480 with 2 Axes>"
      ]
     },
     "metadata": {},
     "output_type": "display_data"
    }
   ],
   "source": [
    "from sklearn.metrics import confusion_matrix, ConfusionMatrixDisplay\n",
    "\n",
    "# Membuat Confusion Matrix\n",
    "cm = confusion_matrix(y_test, y_pred)\n",
    "\n",
    "# Menampilkan Confusion Matrix dalam Bentuk Teks\n",
    "print(\"Confusion Matrix:\")\n",
    "print(cm)\n",
    "\n",
    "# Visualisasi Confusion Matrix\n",
    "disp = ConfusionMatrixDisplay(confusion_matrix=cm, display_labels=clf.classes_)\n",
    "disp.plot(cmap=plt.cm.Blues)\n",
    "plt.title(\"Confusion Matrix for SVM Undersampling\")\n",
    "plt.show()"
   ]
  },
  {
   "cell_type": "code",
   "execution_count": 32,
   "metadata": {},
   "outputs": [
    {
     "name": "stdout",
     "output_type": "stream",
     "text": [
      "              precision    recall  f1-score   support\n",
      "\n",
      "           0       0.76      0.74      0.75      4433\n",
      "           1       0.75      0.77      0.76      4485\n",
      "\n",
      "    accuracy                           0.76      8918\n",
      "   macro avg       0.76      0.76      0.76      8918\n",
      "weighted avg       0.76      0.76      0.76      8918\n",
      "\n",
      "Akurasi SVM : 75.52%\n"
     ]
    }
   ],
   "source": [
    "clf = SVC(kernel = 'poly' , degree=3, C=1.0)\n",
    "clf.fit(X_train, y_train)\n",
    "\n",
    "y_pred = clf.predict(X_test)\n",
    "CLF_acc = accuracy_score(y_pred, y_test)\n",
    "\n",
    "print(classification_report(y_test, y_pred))\n",
    "print(\"Akurasi SVM : {:.2f}%\".format(CLF_acc*100))"
   ]
  },
  {
   "cell_type": "code",
   "execution_count": 33,
   "metadata": {},
   "outputs": [
    {
     "name": "stdout",
     "output_type": "stream",
     "text": [
      "              precision    recall  f1-score   support\n",
      "\n",
      "           0       0.50      1.00      0.66      4433\n",
      "           1       0.00      0.00      0.00      4485\n",
      "\n",
      "    accuracy                           0.50      8918\n",
      "   macro avg       0.25      0.50      0.33      8918\n",
      "weighted avg       0.25      0.50      0.33      8918\n",
      "\n",
      "Akurasi SVM : 49.71%\n"
     ]
    },
    {
     "name": "stderr",
     "output_type": "stream",
     "text": [
      "c:\\Users\\M S I\\AppData\\Local\\Programs\\Python\\Python38\\lib\\site-packages\\sklearn\\metrics\\_classification.py:1471: UndefinedMetricWarning: Precision and F-score are ill-defined and being set to 0.0 in labels with no predicted samples. Use `zero_division` parameter to control this behavior.\n",
      "  _warn_prf(average, modifier, msg_start, len(result))\n",
      "c:\\Users\\M S I\\AppData\\Local\\Programs\\Python\\Python38\\lib\\site-packages\\sklearn\\metrics\\_classification.py:1471: UndefinedMetricWarning: Precision and F-score are ill-defined and being set to 0.0 in labels with no predicted samples. Use `zero_division` parameter to control this behavior.\n",
      "  _warn_prf(average, modifier, msg_start, len(result))\n",
      "c:\\Users\\M S I\\AppData\\Local\\Programs\\Python\\Python38\\lib\\site-packages\\sklearn\\metrics\\_classification.py:1471: UndefinedMetricWarning: Precision and F-score are ill-defined and being set to 0.0 in labels with no predicted samples. Use `zero_division` parameter to control this behavior.\n",
      "  _warn_prf(average, modifier, msg_start, len(result))\n"
     ]
    }
   ],
   "source": [
    "clf = SVC(kernel = 'sigmoid' , gamma=1.0)\n",
    "clf.fit(X_train, y_train)\n",
    "\n",
    "y_pred = clf.predict(X_test)\n",
    "CLF_acc = accuracy_score(y_pred, y_test)\n",
    "\n",
    "print(classification_report(y_test, y_pred))\n",
    "print(\"Akurasi SVM : {:.2f}%\".format(CLF_acc*100))"
   ]
  },
  {
   "cell_type": "code",
   "execution_count": 34,
   "metadata": {},
   "outputs": [
    {
     "name": "stdout",
     "output_type": "stream",
     "text": [
      "              precision    recall  f1-score   support\n",
      "\n",
      "           0       0.78      0.69      0.73      4433\n",
      "           1       0.72      0.80      0.76      4485\n",
      "\n",
      "    accuracy                           0.75      8918\n",
      "   macro avg       0.75      0.75      0.75      8918\n",
      "weighted avg       0.75      0.75      0.75      8918\n",
      "\n",
      "Akurasi SVM : 74.73%\n"
     ]
    }
   ],
   "source": [
    "clf = SVC(kernel = 'rbf' , gamma=0.1)\n",
    "clf.fit(X_train, y_train)\n",
    "\n",
    "y_pred = clf.predict(X_test)\n",
    "CLF_acc = accuracy_score(y_pred, y_test)\n",
    "\n",
    "print(classification_report(y_test, y_pred))\n",
    "print(\"Akurasi SVM : {:.2f}%\".format(CLF_acc*100))"
   ]
  },
  {
   "cell_type": "markdown",
   "metadata": {},
   "source": [
    "Tanpa Tuning"
   ]
  },
  {
   "cell_type": "code",
   "execution_count": 35,
   "metadata": {},
   "outputs": [
    {
     "name": "stdout",
     "output_type": "stream",
     "text": [
      "Default Model Test Accuracy: 0.760708679076026\n"
     ]
    }
   ],
   "source": [
    "# Model tanpa tuning\n",
    "model_default = SVC()  # Default parameters\n",
    "model_default.fit(X_train, y_train)\n",
    "y_test_pred_default = model_default.predict(X_test)\n",
    "default_accuracy = accuracy_score(y_test, y_test_pred_default)\n",
    "print(\"Default Model Test Accuracy:\", default_accuracy)\n"
   ]
  },
  {
   "cell_type": "markdown",
   "metadata": {},
   "source": [
    "HYPERPARAMETER TUNING"
   ]
  },
  {
   "cell_type": "code",
   "execution_count": 36,
   "metadata": {},
   "outputs": [
    {
     "name": "stdout",
     "output_type": "stream",
     "text": [
      "Best Parameters: {'kernel': 'linear', 'C': 1}\n",
      "Classification Report:\n",
      "              precision    recall  f1-score   support\n",
      "\n",
      "           0       0.78      0.73      0.75      4433\n",
      "           1       0.75      0.80      0.77      4485\n",
      "\n",
      "    accuracy                           0.76      8918\n",
      "   macro avg       0.77      0.76      0.76      8918\n",
      "weighted avg       0.77      0.76      0.76      8918\n",
      "\n",
      "Accuracy: 0.7644090603274277\n"
     ]
    }
   ],
   "source": [
    "from sklearn.svm import SVC\n",
    "from sklearn.metrics import classification_report, accuracy_score\n",
    "import numpy as np\n",
    "\n",
    "# Define the parameter grid for tuning\n",
    "param_grid = [\n",
    "    {'kernel': ['linear'], 'C': [0.01, 0.1, 1]},\n",
    "    {'kernel': ['rbf'], 'C': [0.01, 0.1, 1], 'gamma': [0.01, 0.1, 1]}\n",
    "]\n",
    "\n",
    "# Initialize variables to track the best parameters and model\n",
    "best_params = None\n",
    "best_model = None\n",
    "best_accuracy = -np.inf  # Start with a very low accuracy\n",
    "\n",
    "# Iterate over parameter combinations manually\n",
    "for params in param_grid:\n",
    "    kernel = params['kernel'][0]\n",
    "    C_values = params['C']\n",
    "    gamma_values = params.get('gamma', [None])  # Default to None for linear kernel\n",
    "    \n",
    "    for C in C_values:\n",
    "        for gamma in gamma_values:\n",
    "            # Initialize the model with current parameters\n",
    "            if kernel == 'linear':\n",
    "                model = SVC(kernel=kernel, C=C)\n",
    "            else:  # For rbf kernel\n",
    "                model = SVC(kernel=kernel, C=C, gamma=gamma)\n",
    "            \n",
    "            # Fit the model on the training data\n",
    "            model.fit(X_train, y_train)\n",
    "            \n",
    "            # Evaluate the model on the test set\n",
    "            y_pred = model.predict(X_test)\n",
    "            accuracy = accuracy_score(y_test, y_pred)\n",
    "            \n",
    "            # Update the best model if the current model performs better\n",
    "            if accuracy > best_accuracy:\n",
    "                best_accuracy = accuracy\n",
    "                best_params = {'kernel': kernel, 'C': C}\n",
    "                if kernel == 'rbf':\n",
    "                    best_params['gamma'] = gamma\n",
    "                best_model = model\n",
    "\n",
    "# Print the best parameters found\n",
    "print(\"Best Parameters:\", best_params)\n",
    "\n",
    "# Evaluate the best model on the test set\n",
    "y_pred = best_model.predict(X_test)\n",
    "\n",
    "# Print classification report and accuracy\n",
    "print(\"Classification Report:\")\n",
    "print(classification_report(y_test, y_pred))\n",
    "print(\"Accuracy:\", best_accuracy)\n"
   ]
  },
  {
   "cell_type": "code",
   "execution_count": 37,
   "metadata": {},
   "outputs": [
    {
     "name": "stdout",
     "output_type": "stream",
     "text": [
      "Cross-validation scores: [0.91818082 0.91818082 0.91814411 0.91814411 0.91814411 0.91817781\n",
      " 0.91817781 0.91817781 0.91817781 0.91817781]\n",
      "Mean cross-validation score: 0.9181683033772652\n"
     ]
    }
   ],
   "source": [
    "from sklearn.model_selection import cross_val_score\n",
    "from sklearn.svm import SVC\n",
    "\n",
    "# Use the best parameters found earlier\n",
    "kernel = best_params['kernel']\n",
    "C = best_params['C']\n",
    "gamma = best_params.get('gamma', None)\n",
    "\n",
    "# Initialize the model with the best parameters\n",
    "if kernel == 'linear':\n",
    "    best_model = SVC(kernel=kernel, C=C)\n",
    "else:  # For rbf kernel\n",
    "    best_model = SVC(kernel=kernel, C=C, gamma=gamma)\n",
    "\n",
    "# Perform 10-fold cross-validation\n",
    "cv_scores = cross_val_score(best_model, X, y, cv=10)\n",
    "\n",
    "# Print the cross-validation results\n",
    "print(\"Cross-validation scores:\", cv_scores)\n",
    "print(\"Mean cross-validation score:\", cv_scores.mean())\n"
   ]
  },
  {
   "cell_type": "code",
   "execution_count": 38,
   "metadata": {},
   "outputs": [],
   "source": [
    "# from sklearn.model_selection import GridSearchCV\n",
    "\n",
    "# # Define the parameter grid for tuning\n",
    "# param_grid = {\n",
    "#     'C': [0.01, 0.1, 1],  # Regularization parameter\n",
    "#     'kernel': ['linear']  # Using the default kernel\n",
    "# }\n",
    "\n",
    "# # Initialize the SVM model\n",
    "# model = SVC()\n",
    "\n",
    "# # Initialize GridSearchCV with 5-fold cross-validation\n",
    "# grid_search = GridSearchCV(estimator=model, param_grid=param_grid, \n",
    "#                            cv=5, scoring='accuracy', verbose=1)\n",
    "\n",
    "# # Fit GridSearchCV on the training data\n",
    "# grid_search.fit(X_train, y_train)\n",
    "\n",
    "# # Print the best parameters found\n",
    "# print(\"Best Parameters:\", grid_search.best_params_)\n",
    "\n",
    "# # Evaluate the best model on the test set\n",
    "# best_model = grid_search.best_estimator_\n",
    "# y_pred = best_model.predict(X_test)\n",
    "\n",
    "# # Print classification report and accuracy\n",
    "# print(\"Classification Report:\")\n",
    "# print(classification_report(y_test, y_pred))\n",
    "# print(\"Accuracy:\", accuracy_score(y_test, y_pred))"
   ]
  },
  {
   "cell_type": "code",
   "execution_count": 39,
   "metadata": {},
   "outputs": [],
   "source": [
    "# from sklearn.model_selection import cross_val_score\n",
    "\n",
    "# # Model terbaik dari Grid Search\n",
    "# best_model = grid_search.best_estimator_\n",
    "\n",
    "# # Evaluasi performa akhir menggunakan k-fold CV\n",
    "# scores = cross_val_score(best_model, X, y, cv=10, scoring='accuracy', n_jobs=-1)\n",
    "# print(\"Final Accuracy:\", scores.mean())\n"
   ]
  },
  {
   "cell_type": "code",
   "execution_count": 40,
   "metadata": {},
   "outputs": [],
   "source": [
    "#import numpy as np\n",
    "#from sklearn.model_selection import cross_val_score, StratifiedKFold\n",
    "#from sklearn.metrics import accuracy_score\n",
    "\n",
    "# Asumsikan best_model dari hasil tuning sudah didefinisikan\n",
    "\n",
    "# Set up K-fold cross-validation with 10 splits\n",
    "#kfold = StratifiedKFold(n_splits=10, shuffle=True, random_state=42)\n",
    "\n",
    "# Perform cross-validation\n",
    "#cv_results = cross_val_score(best_model, X_train, y_train, cv=kfold, scoring='accuracy')\n",
    "\n",
    "# Display cross-validation results\n",
    "#print(\"Cross-validation Accuracy Scores:\", cv_results)\n",
    "#print(\"Mean CV Accuracy:\", np.mean(cv_results))\n",
    "#print(\"Standard Deviation of CV Accuracy:\", np.std(cv_results))"
   ]
  },
  {
   "cell_type": "markdown",
   "metadata": {},
   "source": [
    "## mencetak model"
   ]
  },
  {
   "cell_type": "code",
   "execution_count": 54,
   "metadata": {},
   "outputs": [
    {
     "name": "stdout",
     "output_type": "stream",
     "text": [
      "Model berhasil disimpan ke file model_svm_undersampling.pkl\n"
     ]
    }
   ],
   "source": [
    "import pickle\n",
    "from sklearn.svm import SVC\n",
    "\n",
    "# Contoh: Membuat model SVM\n",
    "#model = SVC(kernel='rbf', C=1, gamma=0.1)\n",
    "\n",
    "# Training model (gunakan dataset Anda sendiri)\n",
    "# X_train dan y_train adalah dataset pelatihan Anda\n",
    "# model.fit(X_train, y_train)\n",
    "\n",
    "# Menyimpan model ke file .pkl\n",
    "with open('model_svm_undersampling.pkl', 'wb') as file:\n",
    "    pickle.dump(model, file)\n",
    "\n",
    "print(\"Model berhasil disimpan ke file model_svm_undersampling.pkl\")\n"
   ]
  },
  {
   "cell_type": "code",
   "execution_count": 55,
   "metadata": {},
   "outputs": [
    {
     "name": "stdout",
     "output_type": "stream",
     "text": [
      "Model berhasil dimuat kembali\n"
     ]
    }
   ],
   "source": [
    "# Membaca model dari file .pkl\n",
    "with open('model_svm_undersampling.pkl', 'rb') as file:\n",
    "    loaded_model = pickle.load(file)\n",
    "\n",
    "print(\"Model berhasil dimuat kembali\")\n",
    "# Anda bisa menggunakan model ini untuk prediksi\n",
    "# predictions = loaded_model.predict(X_test)\n"
   ]
  },
  {
   "cell_type": "code",
   "execution_count": 57,
   "metadata": {},
   "outputs": [
    {
     "name": "stdout",
     "output_type": "stream",
     "text": [
      "Prediksi: [1 1 0 ... 1 0 0]\n"
     ]
    }
   ],
   "source": [
    "# Muat model dari file .pkl\n",
    "with open('model_svm_undersampling.pkl', 'rb') as file:\n",
    "    loaded_model = pickle.load(file)\n",
    "\n",
    "# Gunakan model untuk prediksi\n",
    "predictions = loaded_model.predict(X_test)\n",
    "print(\"Prediksi:\", predictions)\n"
   ]
  },
  {
   "cell_type": "markdown",
   "metadata": {
    "id": "owpR9iRDthzo"
   },
   "source": [
    "## Testing"
   ]
  },
  {
   "cell_type": "code",
   "execution_count": 41,
   "metadata": {
    "colab": {
     "base_uri": "https://localhost:8080/"
    },
    "id": "UN6TZoxLgta7",
    "outputId": "0506b7f7-7200-4219-c5ad-11e043cbe055"
   },
   "outputs": [
    {
     "name": "stdout",
     "output_type": "stream",
     "text": [
      "Diagnosis Data Baru :  [1]\n"
     ]
    },
    {
     "name": "stderr",
     "output_type": "stream",
     "text": [
      "c:\\Users\\M S I\\AppData\\Local\\Programs\\Python\\Python38\\lib\\site-packages\\sklearn\\base.py:465: UserWarning: X does not have valid feature names, but SVC was fitted with feature names\n",
      "  warnings.warn(\n"
     ]
    }
   ],
   "source": [
    "new_data = {\n",
    "    'BMI'\t: [10.0],\n",
    "    'Smoking'\t: [1],\n",
    "    'AlcoholDrinking' : [1],\n",
    "    'Stroke'\t: [1],\n",
    "    'PhysicalHealth' : [9],\n",
    "    'MentalHealth'\t: [10],\n",
    "    'DiffWalking'\t: [1],\n",
    "    'Sex'\t: [1],\n",
    "    'AgeCategory' : [12],\n",
    "    'Race' : [1],\n",
    "    'Diabetic' : [1],\n",
    "    'PhysicalActivity' : [0],\n",
    "    'GenHealth'\t: [4],\n",
    "    'SleepTime'\t: [2],\n",
    "    'Asthma'\t: [1],\n",
    "    'KidneyDisease'\t: [1],\n",
    "    'SkinCancer' : [1]\n",
    "}\n",
    "\n",
    "new_data = pd.DataFrame(new_data)\n",
    "new_data\n",
    "\n",
    "scaled_new_data = scaler.transform(new_data)\n",
    "y_pred_new = clf.predict(scaled_new_data)\n",
    "\n",
    "print(\"Diagnosis Data Baru : \", y_pred_new)"
   ]
  },
  {
   "cell_type": "code",
   "execution_count": 42,
   "metadata": {},
   "outputs": [
    {
     "name": "stdout",
     "output_type": "stream",
     "text": [
      "Diagnosis Data Baru :  [1]\n"
     ]
    },
    {
     "name": "stderr",
     "output_type": "stream",
     "text": [
      "c:\\Users\\M S I\\AppData\\Local\\Programs\\Python\\Python38\\lib\\site-packages\\sklearn\\base.py:465: UserWarning: X does not have valid feature names, but SVC was fitted with feature names\n",
      "  warnings.warn(\n"
     ]
    }
   ],
   "source": [
    "new_data = {\n",
    "    'BMI'\t: [34.3],\n",
    "    'Smoking'\t: [0],\n",
    "    'AlcoholDrinking' : [0],\n",
    "    'Stroke'\t: [1],\n",
    "    'PhysicalHealth' : [50],\n",
    "    'MentalHealth'\t: [50],\n",
    "    'DiffWalking'\t: [1],\n",
    "    'Sex'\t: [1],\n",
    "    'AgeCategory' : [1],\n",
    "    'Race' : [1],\n",
    "    'Diabetic' : [0],\n",
    "    'PhysicalActivity' : [1],\n",
    "    'GenHealth'\t: [2],\n",
    "    'SleepTime'\t: [5],\n",
    "    'Asthma'\t: [0],\n",
    "    'KidneyDisease'\t: [0],\n",
    "    'SkinCancer' : [0]\n",
    "}\n",
    "\n",
    "new_data = pd.DataFrame(new_data)\n",
    "new_data\n",
    "\n",
    "scaled_new_data = scaler.transform(new_data)\n",
    "y_pred_new = clf.predict(scaled_new_data)\n",
    "\n",
    "print(\"Diagnosis Data Baru : \", y_pred_new)"
   ]
  },
  {
   "cell_type": "code",
   "execution_count": 43,
   "metadata": {},
   "outputs": [],
   "source": [
    "import pickle"
   ]
  },
  {
   "cell_type": "code",
   "execution_count": 44,
   "metadata": {},
   "outputs": [],
   "source": [
    "from sklearn.preprocessing import StandardScaler"
   ]
  },
  {
   "cell_type": "code",
   "execution_count": 45,
   "metadata": {},
   "outputs": [
    {
     "name": "stderr",
     "output_type": "stream",
     "text": [
      "c:\\Users\\M S I\\AppData\\Local\\Programs\\Python\\Python38\\lib\\site-packages\\sklearn\\base.py:465: UserWarning: X does not have valid feature names, but StandardScaler was fitted with feature names\n",
      "  warnings.warn(\n"
     ]
    }
   ],
   "source": [
    "scaler = StandardScaler()\n",
    "scaler.fit(X_train)\n",
    "X = scaler.transform(X)"
   ]
  },
  {
   "cell_type": "code",
   "execution_count": 46,
   "metadata": {},
   "outputs": [],
   "source": [
    "data_diskalakan_uji = scaler.transform(X_test)"
   ]
  },
  {
   "cell_type": "code",
   "execution_count": 47,
   "metadata": {},
   "outputs": [
    {
     "name": "stderr",
     "output_type": "stream",
     "text": [
      "c:\\Users\\M S I\\AppData\\Local\\Programs\\Python\\Python38\\lib\\site-packages\\sklearn\\svm\\_classes.py:32: FutureWarning: The default value of `dual` will change from `True` to `'auto'` in 1.5. Set the value of `dual` explicitly to suppress the warning.\n",
      "  warnings.warn(\n"
     ]
    },
    {
     "name": "stdout",
     "output_type": "stream",
     "text": [
      "              precision    recall  f1-score   support\n",
      "\n",
      "           0       0.77      0.74      0.75      4433\n",
      "           1       0.75      0.79      0.77      4485\n",
      "\n",
      "    accuracy                           0.76      8918\n",
      "   macro avg       0.76      0.76      0.76      8918\n",
      "weighted avg       0.76      0.76      0.76      8918\n",
      "\n"
     ]
    },
    {
     "name": "stderr",
     "output_type": "stream",
     "text": [
      "c:\\Users\\M S I\\AppData\\Local\\Programs\\Python\\Python38\\lib\\site-packages\\sklearn\\svm\\_base.py:1250: ConvergenceWarning: Liblinear failed to converge, increase the number of iterations.\n",
      "  warnings.warn(\n"
     ]
    }
   ],
   "source": [
    "from sklearn.pipeline import make_pipeline\n",
    "from sklearn.preprocessing import StandardScaler\n",
    "from sklearn.svm import LinearSVC\n",
    "from sklearn.metrics import classification_report\n",
    "\n",
    "# Assuming you have your training and testing data (X_train, X_test, y_train, y_test)\n",
    "\n",
    "# Create the model pipeline\n",
    "model_numpy = make_pipeline(StandardScaler(), LinearSVC())\n",
    "\n",
    "# Train the model\n",
    "model_numpy.fit(X_train, y_train)\n",
    "\n",
    "# Make predictions on the test data\n",
    "y_pred = model_numpy.predict(X_test)\n",
    "\n",
    "# Print the classification report\n",
    "print(classification_report(y_test, y_pred))\n",
    "\n",
    "# Save the trained model (replace with your preferred filename)\n",
    "with open(\"model_numpy.pkl\", \"wb\") as model_file:\n",
    "    pickle.dump(model_numpy, model_file)\n"
   ]
  },
  {
   "cell_type": "code",
   "execution_count": 48,
   "metadata": {},
   "outputs": [
    {
     "name": "stdout",
     "output_type": "stream",
     "text": [
      "Model berhasil disimpan ke file model_svm.pkl\n"
     ]
    }
   ],
   "source": [
    "import pickle\n",
    "from sklearn.svm import SVC\n",
    "\n",
    "# Contoh: Membuat model SVM\n",
    "model = SVC(kernel='rbf', C=1, gamma=0.1)\n",
    "\n",
    "# Training model (gunakan dataset Anda sendiri)\n",
    "# X_train dan y_train adalah dataset pelatihan Anda\n",
    "# model.fit(X_train, y_train)\n",
    "\n",
    "# Menyimpan model ke file .pkl\n",
    "with open('model_svm.pkl', 'wb') as file:\n",
    "    pickle.dump(model, file)\n",
    "\n",
    "print(\"Model berhasil disimpan ke file model_svm.pkl\")\n"
   ]
  },
  {
   "cell_type": "code",
   "execution_count": 49,
   "metadata": {},
   "outputs": [
    {
     "name": "stdout",
     "output_type": "stream",
     "text": [
      "Model berhasil dimuat kembali\n"
     ]
    }
   ],
   "source": [
    "# Membaca model dari file .pkl\n",
    "with open('model_svm.pkl', 'rb') as file:\n",
    "    loaded_model = pickle.load(file)\n",
    "\n",
    "print(\"Model berhasil dimuat kembali\")\n",
    "# Anda bisa menggunakan model ini untuk prediksi\n",
    "# predictions = loaded_model.predict(X_test)\n"
   ]
  },
  {
   "cell_type": "code",
   "execution_count": 50,
   "metadata": {},
   "outputs": [],
   "source": [
    "#load model\n",
    "with open('model_numpy.pkl', 'rb') as model_file:\n",
    "    model = pickle.load(model_file)"
   ]
  },
  {
   "cell_type": "code",
   "execution_count": 51,
   "metadata": {},
   "outputs": [
    {
     "name": "stdout",
     "output_type": "stream",
     "text": [
      "Hasil dengan model default disimpan ke 'svm_default_results.csv'\n"
     ]
    }
   ],
   "source": [
    "# Tanpa tuning, gunakan model default\n",
    "svm_clf = SVC(probability=True)\n",
    "svm_clf.fit(X_train, y_train)\n",
    "\n",
    "# Dapatkan probabilitas prediksi\n",
    "y_prob_svm = svm_clf.predict_proba(X_test)[:, 1]\n",
    "\n",
    "# Simpan ke file .csv\n",
    "results_svm = pd.DataFrame({\n",
    "    'y_test': y_test,\n",
    "    'y_prob': y_prob_svm\n",
    "})\n",
    "results_svm.to_csv('svm_default_results.csv', index=False)\n",
    "\n",
    "print(\"Hasil dengan model default disimpan ke 'svm_default_results.csv'\")\n"
   ]
  },
  {
   "cell_type": "code",
   "execution_count": 52,
   "metadata": {},
   "outputs": [
    {
     "data": {
      "image/png": "[encoded data removed]",
      "text/plain": [
       "<Figure size 1000x600 with 1 Axes>"
      ]
     },
     "metadata": {},
     "output_type": "display_data"
    }
   ],
   "source": [
    "import matplotlib.pyplot as plt\n",
    "import numpy as np\n",
    "\n",
    "# Data dari tabel\n",
    "methods = ['SVM Tanpa Undersampling', 'SVM Dengan Undersampling', \n",
    "           'DT Tanpa Undersampling', 'DT Dengan Undersampling']\n",
    "precision = [84, 77, 89, 74]\n",
    "recall = [92, 76, 91, 74]\n",
    "f1_score = [88, 76, 89, 74]\n",
    "\n",
    "x = np.arange(len(methods))  # Posisi untuk setiap metode\n",
    "width = 0.25  # Lebar batang\n",
    "\n",
    "# Membuat grafik batang\n",
    "plt.figure(figsize=(10, 6))\n",
    "plt.bar(x - width, precision, width, label='Precision', color='skyblue')\n",
    "plt.bar(x, recall, width, label='Recall', color='orange')\n",
    "plt.bar(x + width, f1_score, width, label='F1-Score', color='green')\n",
    "\n",
    "# Menambahkan label dan judul\n",
    "plt.xlabel('Metode', fontsize=12)\n",
    "plt.ylabel('Persentase (%)', fontsize=12)\n",
    "plt.title('Perbandingan Metode Berdasarkan Precision, Recall, dan F1-Score', fontsize=14)\n",
    "plt.xticks(x, methods, rotation=15, fontsize=10)\n",
    "plt.ylim(0, 120)\n",
    "plt.legend()\n",
    "\n",
    "# Menampilkan grafik\n",
    "plt.tight_layout()\n",
    "plt.show()\n"
   ]
  },
  {
   "cell_type": "code",
   "execution_count": 53,
   "metadata": {},
   "outputs": [
    {
     "data": {
      "image/png": "[encoded data removed]",
      "text/plain": [
       "<Figure size 1000x1200 with 2 Axes>"
      ]
     },
     "metadata": {},
     "output_type": "display_data"
    }
   ],
   "source": [
    "import matplotlib.pyplot as plt\n",
    "import numpy as np\n",
    "\n",
    "# Data untuk SVM\n",
    "metrics = ['Accuracy', 'Precision', 'Recall', 'F1-Score']\n",
    "svm_no_undersampling = [91, 84, 92, 88]\n",
    "svm_with_undersampling = [76, 77, 76, 76]\n",
    "\n",
    "# Data tambahan untuk analisis per class\n",
    "classes = ['Class 0 (Majority)', 'Class 1 (Minority)']\n",
    "recall_no_undersampling = [100, 0]  # Recall per class tanpa undersampling\n",
    "recall_with_undersampling = [73, 75]  # Recall per class dengan undersampling\n",
    "\n",
    "# Grafik pertama: Perbandingan metrik utama sebelum dan sesudah undersampling\n",
    "x = np.arange(len(metrics))  # Label posisi x\n",
    "width = 0.35  # Lebar bar\n",
    "\n",
    "fig, ax = plt.subplots(2, 1, figsize=(10, 12))\n",
    "\n",
    "# Bar chart metrik utama\n",
    "ax[0].bar(x - width/2, svm_no_undersampling, width, label='Tanpa Undersampling', color='skyblue')\n",
    "ax[0].bar(x + width/2, svm_with_undersampling, width, label='Dengan Undersampling', color='orange')\n",
    "\n",
    "# Pengaturan grafik pertama\n",
    "ax[0].set_xlabel('Metrik Evaluasi')\n",
    "ax[0].set_ylabel('Nilai (%)')\n",
    "ax[0].set_title('Perbandingan Performa SVM Sebelum dan Sesudah Undersampling')\n",
    "ax[0].set_xticks(x)\n",
    "ax[0].set_xticklabels(metrics)\n",
    "ax[0].legend()\n",
    "ax[0].grid(axis='y', linestyle='--', alpha=0.7)\n",
    "\n",
    "# Grafik kedua: Analisis recall per class\n",
    "x_classes = np.arange(len(classes))\n",
    "width_classes = 0.4\n",
    "\n",
    "ax[1].bar(x_classes - width_classes/2, recall_no_undersampling, width_classes, label='Tanpa Undersampling', color='lightgreen')\n",
    "ax[1].bar(x_classes + width_classes/2, recall_with_undersampling, width_classes, label='Dengan Undersampling', color='salmon')\n",
    "\n",
    "# Pengaturan grafik kedua\n",
    "ax[1].set_xlabel('Kelas')\n",
    "ax[1].set_ylabel('Recall (%)')\n",
    "ax[1].set_title('Analisis Recall Per Class Sebelum dan Sesudah Undersampling')\n",
    "ax[1].set_xticks(x_classes)\n",
    "ax[1].set_xticklabels(classes)\n",
    "ax[1].legend()\n",
    "ax[1].grid(axis='y', linestyle='--', alpha=0.7)\n",
    "\n",
    "# Tampilkan grafik\n",
    "plt.tight_layout()\n",
    "plt.show()\n"
   ]
  },
  {
   "cell_type": "code",
   "execution_count": null,
   "metadata": {},
   "outputs": [],
   "source": []
  }
 ],
 "metadata": {
  "colab": {
   "provenance": []
  },
  "kernelspec": {
   "display_name": "Python 3",
   "name": "python3"
  },
  "language_info": {
   "codemirror_mode": {
    "name": "ipython",
    "version": 3
   },
   "file_extension": ".py",
   "mimetype": "text/x-python",
   "name": "python",
   "nbconvert_exporter": "python",
   "pygments_lexer": "ipython3",
   "version": "3.8.3"
  }
 },
 "nbformat": 4,
 "nbformat_minor": 0
}
