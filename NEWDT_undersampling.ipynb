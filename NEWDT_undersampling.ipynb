{
 "cells": [
  {
   "cell_type": "markdown",
   "metadata": {},
   "source": [
    "## Import Library yang digunakan\n"
   ]
  },
  {
   "cell_type": "code",
   "execution_count": 1,
   "metadata": {},
   "outputs": [],
   "source": [
    "# Importing the required libraries\n",
    "import pandas as pd, numpy as np\n",
    "import matplotlib.pyplot as plt, seaborn as sns\n",
    "%matplotlib inline\n",
    "from sklearn.model_selection import train_test_split\n",
    "from sklearn.tree import DecisionTreeClassifier\n",
    "\n",
    "# Importing required packages for visualization\n",
    "from IPython.display import Image\n",
    "from six import StringIO\n",
    "from sklearn.tree import export_graphviz\n",
    "import pydotplus, graphviz\n",
    "\n",
    "from sklearn.metrics import confusion_matrix, accuracy_score"
   ]
  },
  {
   "cell_type": "code",
   "execution_count": 2,
   "metadata": {},
   "outputs": [
    {
     "data": {
      "text/html": [
       "<div>\n",
       "<style scoped>\n",
       "    .dataframe tbody tr th:only-of-type {\n",
       "        vertical-align: middle;\n",
       "    }\n",
       "\n",
       "    .dataframe tbody tr th {\n",
       "        vertical-align: top;\n",
       "    }\n",
       "\n",
       "    .dataframe thead th {\n",
       "        text-align: right;\n",
       "    }\n",
       "</style>\n",
       "<table border=\"1\" class=\"dataframe\">\n",
       "  <thead>\n",
       "    <tr style=\"text-align: right;\">\n",
       "      <th></th>\n",
       "      <th>HeartDisease</th>\n",
       "      <th>BMI</th>\n",
       "      <th>Smoking</th>\n",
       "      <th>AlcoholDrinking</th>\n",
       "      <th>Stroke</th>\n",
       "      <th>PhysicalHealth</th>\n",
       "      <th>MentalHealth</th>\n",
       "      <th>DiffWalking</th>\n",
       "      <th>Sex</th>\n",
       "      <th>AgeCategory</th>\n",
       "      <th>Race</th>\n",
       "      <th>Diabetic</th>\n",
       "      <th>PhysicalActivity</th>\n",
       "      <th>GenHealth</th>\n",
       "      <th>SleepTime</th>\n",
       "      <th>Asthma</th>\n",
       "      <th>KidneyDisease</th>\n",
       "      <th>SkinCancer</th>\n",
       "    </tr>\n",
       "  </thead>\n",
       "  <tbody>\n",
       "    <tr>\n",
       "      <th>0</th>\n",
       "      <td>0</td>\n",
       "      <td>20.34</td>\n",
       "      <td>0</td>\n",
       "      <td>0</td>\n",
       "      <td>1</td>\n",
       "      <td>0</td>\n",
       "      <td>0</td>\n",
       "      <td>0</td>\n",
       "      <td>1</td>\n",
       "      <td>13</td>\n",
       "      <td>1</td>\n",
       "      <td>0</td>\n",
       "      <td>1</td>\n",
       "      <td>2</td>\n",
       "      <td>7</td>\n",
       "      <td>0</td>\n",
       "      <td>0</td>\n",
       "      <td>0</td>\n",
       "    </tr>\n",
       "    <tr>\n",
       "      <th>1</th>\n",
       "      <td>0</td>\n",
       "      <td>26.58</td>\n",
       "      <td>1</td>\n",
       "      <td>0</td>\n",
       "      <td>0</td>\n",
       "      <td>20</td>\n",
       "      <td>30</td>\n",
       "      <td>0</td>\n",
       "      <td>0</td>\n",
       "      <td>10</td>\n",
       "      <td>1</td>\n",
       "      <td>1</td>\n",
       "      <td>1</td>\n",
       "      <td>4</td>\n",
       "      <td>8</td>\n",
       "      <td>1</td>\n",
       "      <td>0</td>\n",
       "      <td>0</td>\n",
       "    </tr>\n",
       "    <tr>\n",
       "      <th>2</th>\n",
       "      <td>0</td>\n",
       "      <td>23.71</td>\n",
       "      <td>0</td>\n",
       "      <td>0</td>\n",
       "      <td>0</td>\n",
       "      <td>28</td>\n",
       "      <td>0</td>\n",
       "      <td>1</td>\n",
       "      <td>1</td>\n",
       "      <td>5</td>\n",
       "      <td>1</td>\n",
       "      <td>0</td>\n",
       "      <td>1</td>\n",
       "      <td>2</td>\n",
       "      <td>8</td>\n",
       "      <td>0</td>\n",
       "      <td>0</td>\n",
       "      <td>0</td>\n",
       "    </tr>\n",
       "    <tr>\n",
       "      <th>3</th>\n",
       "      <td>1</td>\n",
       "      <td>28.87</td>\n",
       "      <td>1</td>\n",
       "      <td>0</td>\n",
       "      <td>0</td>\n",
       "      <td>6</td>\n",
       "      <td>0</td>\n",
       "      <td>1</td>\n",
       "      <td>1</td>\n",
       "      <td>12</td>\n",
       "      <td>2</td>\n",
       "      <td>0</td>\n",
       "      <td>0</td>\n",
       "      <td>4</td>\n",
       "      <td>12</td>\n",
       "      <td>0</td>\n",
       "      <td>0</td>\n",
       "      <td>0</td>\n",
       "    </tr>\n",
       "    <tr>\n",
       "      <th>4</th>\n",
       "      <td>0</td>\n",
       "      <td>31.64</td>\n",
       "      <td>1</td>\n",
       "      <td>0</td>\n",
       "      <td>0</td>\n",
       "      <td>5</td>\n",
       "      <td>0</td>\n",
       "      <td>1</td>\n",
       "      <td>1</td>\n",
       "      <td>13</td>\n",
       "      <td>1</td>\n",
       "      <td>1</td>\n",
       "      <td>0</td>\n",
       "      <td>3</td>\n",
       "      <td>9</td>\n",
       "      <td>1</td>\n",
       "      <td>0</td>\n",
       "      <td>0</td>\n",
       "    </tr>\n",
       "  </tbody>\n",
       "</table>\n",
       "</div>"
      ],
      "text/plain": [
       "   HeartDisease    BMI  Smoking  AlcoholDrinking  Stroke  PhysicalHealth  \\\n",
       "0             0  20.34        0                0       1               0   \n",
       "1             0  26.58        1                0       0              20   \n",
       "2             0  23.71        0                0       0              28   \n",
       "3             1  28.87        1                0       0               6   \n",
       "4             0  31.64        1                0       0               5   \n",
       "\n",
       "   MentalHealth  DiffWalking  Sex  AgeCategory  Race  Diabetic  \\\n",
       "0             0            0    1           13     1         0   \n",
       "1            30            0    0           10     1         1   \n",
       "2             0            1    1            5     1         0   \n",
       "3             0            1    1           12     2         0   \n",
       "4             0            1    1           13     1         1   \n",
       "\n",
       "   PhysicalActivity  GenHealth  SleepTime  Asthma  KidneyDisease  SkinCancer  \n",
       "0                 1          2          7       0              0           0  \n",
       "1                 1          4          8       1              0           0  \n",
       "2                 1          2          8       0              0           0  \n",
       "3                 0          4         12       0              0           0  \n",
       "4                 0          3          9       1              0           0  "
      ]
     },
     "execution_count": 2,
     "metadata": {},
     "output_type": "execute_result"
    }
   ],
   "source": [
    "df=pd.read_csv(\"Jantungafteroutlier.csv\")\n",
    "df.head()"
   ]
  },
  {
   "cell_type": "code",
   "execution_count": 3,
   "metadata": {},
   "outputs": [
    {
     "name": "stdout",
     "output_type": "stream",
     "text": [
      "Data Shape:  (289976, 18)\n"
     ]
    }
   ],
   "source": [
    "print (\"Data Shape: \", df.shape)"
   ]
  },
  {
   "cell_type": "code",
   "execution_count": 4,
   "metadata": {},
   "outputs": [
    {
     "name": "stdout",
     "output_type": "stream",
     "text": [
      "<class 'pandas.core.frame.DataFrame'>\n",
      "RangeIndex: 289976 entries, 0 to 289975\n",
      "Data columns (total 18 columns):\n",
      " #   Column            Non-Null Count   Dtype  \n",
      "---  ------            --------------   -----  \n",
      " 0   HeartDisease      289976 non-null  int64  \n",
      " 1   BMI               289976 non-null  float64\n",
      " 2   Smoking           289976 non-null  int64  \n",
      " 3   AlcoholDrinking   289976 non-null  int64  \n",
      " 4   Stroke            289976 non-null  int64  \n",
      " 5   PhysicalHealth    289976 non-null  int64  \n",
      " 6   MentalHealth      289976 non-null  int64  \n",
      " 7   DiffWalking       289976 non-null  int64  \n",
      " 8   Sex               289976 non-null  int64  \n",
      " 9   AgeCategory       289976 non-null  int64  \n",
      " 10  Race              289976 non-null  int64  \n",
      " 11  Diabetic          289976 non-null  int64  \n",
      " 12  PhysicalActivity  289976 non-null  int64  \n",
      " 13  GenHealth         289976 non-null  int64  \n",
      " 14  SleepTime         289976 non-null  int64  \n",
      " 15  Asthma            289976 non-null  int64  \n",
      " 16  KidneyDisease     289976 non-null  int64  \n",
      " 17  SkinCancer        289976 non-null  int64  \n",
      "dtypes: float64(1), int64(17)\n",
      "memory usage: 39.8 MB\n"
     ]
    }
   ],
   "source": [
    "df.info()"
   ]
  },
  {
   "cell_type": "code",
   "execution_count": 5,
   "metadata": {},
   "outputs": [
    {
     "data": {
      "text/plain": [
       "17551"
      ]
     },
     "execution_count": 5,
     "metadata": {},
     "output_type": "execute_result"
    }
   ],
   "source": [
    "df.duplicated().sum()"
   ]
  },
  {
   "cell_type": "code",
   "execution_count": 6,
   "metadata": {},
   "outputs": [
    {
     "data": {
      "text/plain": [
       "HeartDisease        0\n",
       "BMI                 0\n",
       "Smoking             0\n",
       "AlcoholDrinking     0\n",
       "Stroke              0\n",
       "PhysicalHealth      0\n",
       "MentalHealth        0\n",
       "DiffWalking         0\n",
       "Sex                 0\n",
       "AgeCategory         0\n",
       "Race                0\n",
       "Diabetic            0\n",
       "PhysicalActivity    0\n",
       "GenHealth           0\n",
       "SleepTime           0\n",
       "Asthma              0\n",
       "KidneyDisease       0\n",
       "SkinCancer          0\n",
       "dtype: int64"
      ]
     },
     "execution_count": 6,
     "metadata": {},
     "output_type": "execute_result"
    }
   ],
   "source": [
    "df.isnull().sum()"
   ]
  },
  {
   "cell_type": "code",
   "execution_count": 7,
   "metadata": {},
   "outputs": [],
   "source": [
    "# Putting feature variable to X\n",
    "X = df.drop('HeartDisease',axis=1)\n",
    "\n",
    "# Putting response variable to y\n",
    "y = df['HeartDisease']"
   ]
  },
  {
   "cell_type": "code",
   "execution_count": 8,
   "metadata": {},
   "outputs": [],
   "source": [
    "X_train, X_test, y_train, y_test = train_test_split(X, y, test_size=0.2, random_state=42)"
   ]
  },
  {
   "cell_type": "code",
   "execution_count": 9,
   "metadata": {},
   "outputs": [
    {
     "name": "stderr",
     "output_type": "stream",
     "text": [
      "C:\\Users\\M S I\\AppData\\Local\\Temp\\ipykernel_23316\\750632785.py:2: FutureWarning: \n",
      "\n",
      "Passing `palette` without assigning `hue` is deprecated and will be removed in v0.14.0. Assign the `x` variable to `hue` and set `legend=False` for the same effect.\n",
      "\n",
      "  sns.countplot(x='HeartDisease',data=df, palette='pastel')\n"
     ]
    },
    {
     "data": {
      "text/plain": [
       "<Axes: xlabel='HeartDisease', ylabel='count'>"
      ]
     },
     "execution_count": 9,
     "metadata": {},
     "output_type": "execute_result"
    },
    {
     "data": {
      "image/png": "[encoded data removed]",
      "text/plain": [
       "<Figure size 640x480 with 1 Axes>"
      ]
     },
     "metadata": {},
     "output_type": "display_data"
    }
   ],
   "source": [
    "#undersampling, mengecek jumlah sebaran data target\n",
    "sns.countplot(x='HeartDisease',data=df, palette='pastel')"
   ]
  },
  {
   "cell_type": "code",
   "execution_count": 10,
   "metadata": {},
   "outputs": [
    {
     "name": "stdout",
     "output_type": "stream",
     "text": [
      "HeartDisease\n",
      "0    22393\n",
      "1    22393\n",
      "Name: count, dtype: int64\n"
     ]
    }
   ],
   "source": [
    "import pandas as pd\n",
    "from imblearn.under_sampling import RandomUnderSampler\n",
    "\n",
    "\n",
    "# Separate features and target\n",
    "X = df.drop('HeartDisease', axis=1)  # Replace 'target_column' with your target column name\n",
    "y = df['HeartDisease']\n",
    "\n",
    "# Create an undersampler object\n",
    "rus = RandomUnderSampler(random_state=42)\n",
    "\n",
    "# Fit and apply undersampling to the data\n",
    "X_resampled, y_resampled = rus.fit_resample(X, y)\n",
    "\n",
    "# Create a new DataFrame with the undersampled data\n",
    "undersampled_data = pd.DataFrame(X_resampled, columns=X.columns)\n",
    "undersampled_data['HeartDisease'] = y_resampled\n",
    "\n",
    "# Print the class distribution in the undersampled data\n",
    "print(undersampled_data['HeartDisease'].value_counts())"
   ]
  },
  {
   "cell_type": "code",
   "execution_count": 11,
   "metadata": {},
   "outputs": [],
   "source": [
    "x = df.drop(['HeartDisease'],axis=1) # x nya adalah atribut yang mempengaruhi penyakit jantung\n",
    "y = df['HeartDisease'] # y nya adalah label itu sendiri"
   ]
  },
  {
   "cell_type": "code",
   "execution_count": 12,
   "metadata": {},
   "outputs": [
    {
     "name": "stdout",
     "output_type": "stream",
     "text": [
      "(289976, 17)\n",
      "(289976,)\n"
     ]
    }
   ],
   "source": [
    "# sebelum undersampling\n",
    "print(x.shape)\n",
    "print(y.shape)"
   ]
  },
  {
   "cell_type": "code",
   "execution_count": 13,
   "metadata": {},
   "outputs": [
    {
     "name": "stdout",
     "output_type": "stream",
     "text": [
      "(44786, 17)\n",
      "(44786,)\n"
     ]
    }
   ],
   "source": [
    "# jumlah data setelah dilakukan undersampling\n",
    "print(X_resampled.shape)\n",
    "print(y_resampled.shape)"
   ]
  },
  {
   "cell_type": "code",
   "execution_count": 14,
   "metadata": {},
   "outputs": [
    {
     "data": {
      "image/png": "[encoded data removed]",
      "text/plain": [
       "<Figure size 900x600 with 1 Axes>"
      ]
     },
     "metadata": {},
     "output_type": "display_data"
    }
   ],
   "source": [
    "fig = plt.subplots(figsize=(9,6))\n",
    "sns.histplot(data=y_resampled)\n",
    "plt.show()\n"
   ]
  },
  {
   "cell_type": "code",
   "execution_count": 15,
   "metadata": {},
   "outputs": [
    {
     "name": "stdout",
     "output_type": "stream",
     "text": [
      "Shape of X_train: (35828, 17)\n",
      "Shape of X_test: (8958, 17)\n",
      "Shape of y_train: (35828,)\n",
      "Shape of y_test: (8958,)\n"
     ]
    }
   ],
   "source": [
    "from sklearn.model_selection import train_test_split\n",
    "\n",
    "#  X_resampled adalah fitur dan y_resampled adalah target hasil undersampling\n",
    "# Membagi data menjadi 80% training dan 20% testing\n",
    "X_train, X_test, y_train, y_test = train_test_split(\n",
    "    X_resampled, y_resampled, test_size=0.2, random_state=42, stratify=y_resampled\n",
    ")\n",
    "\n",
    "# Verifikasi bentuk data setelah split\n",
    "print(\"Shape of X_train:\", X_train.shape)\n",
    "print(\"Shape of X_test:\", X_test.shape)\n",
    "print(\"Shape of y_train:\", y_train.shape)\n",
    "print(\"Shape of y_test:\", y_test.shape)\n"
   ]
  },
  {
   "cell_type": "code",
   "execution_count": 16,
   "metadata": {},
   "outputs": [],
   "source": [
    "#creating a decision tree classifier model\n",
    "\n",
    "model = DecisionTreeClassifier()"
   ]
  },
  {
   "cell_type": "code",
   "execution_count": 17,
   "metadata": {},
   "outputs": [
    {
     "data": {
      "text/html": [
       "<style>#sk-container-id-1 {color: black;}#sk-container-id-1 pre{padding: 0;}#sk-container-id-1 div.sk-toggleable {background-color: white;}#sk-container-id-1 label.sk-toggleable__label {cursor: pointer;display: block;width: 100%;margin-bottom: 0;padding: 0.3em;box-sizing: border-box;text-align: center;}#sk-container-id-1 label.sk-toggleable__label-arrow:before {content: \"▸\";float: left;margin-right: 0.25em;color: #696969;}#sk-container-id-1 label.sk-toggleable__label-arrow:hover:before {color: black;}#sk-container-id-1 div.sk-estimator:hover label.sk-toggleable__label-arrow:before {color: black;}#sk-container-id-1 div.sk-toggleable__content {max-height: 0;max-width: 0;overflow: hidden;text-align: left;background-color: #f0f8ff;}#sk-container-id-1 div.sk-toggleable__content pre {margin: 0.2em;color: black;border-radius: 0.25em;background-color: #f0f8ff;}#sk-container-id-1 input.sk-toggleable__control:checked~div.sk-toggleable__content {max-height: 200px;max-width: 100%;overflow: auto;}#sk-container-id-1 input.sk-toggleable__control:checked~label.sk-toggleable__label-arrow:before {content: \"▾\";}#sk-container-id-1 div.sk-estimator input.sk-toggleable__control:checked~label.sk-toggleable__label {background-color: #d4ebff;}#sk-container-id-1 div.sk-label input.sk-toggleable__control:checked~label.sk-toggleable__label {background-color: #d4ebff;}#sk-container-id-1 input.sk-hidden--visually {border: 0;clip: rect(1px 1px 1px 1px);clip: rect(1px, 1px, 1px, 1px);height: 1px;margin: -1px;overflow: hidden;padding: 0;position: absolute;width: 1px;}#sk-container-id-1 div.sk-estimator {font-family: monospace;background-color: #f0f8ff;border: 1px dotted black;border-radius: 0.25em;box-sizing: border-box;margin-bottom: 0.5em;}#sk-container-id-1 div.sk-estimator:hover {background-color: #d4ebff;}#sk-container-id-1 div.sk-parallel-item::after {content: \"\";width: 100%;border-bottom: 1px solid gray;flex-grow: 1;}#sk-container-id-1 div.sk-label:hover label.sk-toggleable__label {background-color: #d4ebff;}#sk-container-id-1 div.sk-serial::before {content: \"\";position: absolute;border-left: 1px solid gray;box-sizing: border-box;top: 0;bottom: 0;left: 50%;z-index: 0;}#sk-container-id-1 div.sk-serial {display: flex;flex-direction: column;align-items: center;background-color: white;padding-right: 0.2em;padding-left: 0.2em;position: relative;}#sk-container-id-1 div.sk-item {position: relative;z-index: 1;}#sk-container-id-1 div.sk-parallel {display: flex;align-items: stretch;justify-content: center;background-color: white;position: relative;}#sk-container-id-1 div.sk-item::before, #sk-container-id-1 div.sk-parallel-item::before {content: \"\";position: absolute;border-left: 1px solid gray;box-sizing: border-box;top: 0;bottom: 0;left: 50%;z-index: -1;}#sk-container-id-1 div.sk-parallel-item {display: flex;flex-direction: column;z-index: 1;position: relative;background-color: white;}#sk-container-id-1 div.sk-parallel-item:first-child::after {align-self: flex-end;width: 50%;}#sk-container-id-1 div.sk-parallel-item:last-child::after {align-self: flex-start;width: 50%;}#sk-container-id-1 div.sk-parallel-item:only-child::after {width: 0;}#sk-container-id-1 div.sk-dashed-wrapped {border: 1px dashed gray;margin: 0 0.4em 0.5em 0.4em;box-sizing: border-box;padding-bottom: 0.4em;background-color: white;}#sk-container-id-1 div.sk-label label {font-family: monospace;font-weight: bold;display: inline-block;line-height: 1.2em;}#sk-container-id-1 div.sk-label-container {text-align: center;}#sk-container-id-1 div.sk-container {/* jupyter's `normalize.less` sets `[hidden] { display: none; }` but bootstrap.min.css set `[hidden] { display: none !important; }` so we also need the `!important` here to be able to override the default hidden behavior on the sphinx rendered scikit-learn.org. See: https://github.com/scikit-learn/scikit-learn/issues/21755 */display: inline-block !important;position: relative;}#sk-container-id-1 div.sk-text-repr-fallback {display: none;}</style><div id=\"sk-container-id-1\" class=\"sk-top-container\"><div class=\"sk-text-repr-fallback\"><pre>DecisionTreeClassifier()</pre><b>In a Jupyter environment, please rerun this cell to show the HTML representation or trust the notebook. <br />On GitHub, the HTML representation is unable to render, please try loading this page with nbviewer.org.</b></div><div class=\"sk-container\" hidden><div class=\"sk-item\"><div class=\"sk-estimator sk-toggleable\"><input class=\"sk-toggleable__control sk-hidden--visually\" id=\"sk-estimator-id-1\" type=\"checkbox\" checked><label for=\"sk-estimator-id-1\" class=\"sk-toggleable__label sk-toggleable__label-arrow\">DecisionTreeClassifier</label><div class=\"sk-toggleable__content\"><pre>DecisionTreeClassifier()</pre></div></div></div></div></div>"
      ],
      "text/plain": [
       "DecisionTreeClassifier()"
      ]
     },
     "execution_count": 17,
     "metadata": {},
     "output_type": "execute_result"
    }
   ],
   "source": [
    "#fitting the model\n",
    "\n",
    "model.fit(X_train, y_train)"
   ]
  },
  {
   "cell_type": "code",
   "execution_count": 18,
   "metadata": {},
   "outputs": [
    {
     "data": {
      "text/plain": [
       "array([0, 1, 0, ..., 0, 1, 0], dtype=int64)"
      ]
     },
     "execution_count": 18,
     "metadata": {},
     "output_type": "execute_result"
    }
   ],
   "source": [
    "#model prediction\n",
    "\n",
    "model.predict(X_test)"
   ]
  },
  {
   "cell_type": "code",
   "execution_count": 19,
   "metadata": {},
   "outputs": [
    {
     "data": {
      "text/plain": [
       "0.672025005581603"
      ]
     },
     "execution_count": 19,
     "metadata": {},
     "output_type": "execute_result"
    }
   ],
   "source": [
    "#subset model test accuracy\n",
    "\n",
    "model.score(X_test,y_test)"
   ]
  },
  {
   "cell_type": "code",
   "execution_count": 20,
   "metadata": {},
   "outputs": [
    {
     "data": {
      "text/plain": [
       "0.9973763536898516"
      ]
     },
     "execution_count": 20,
     "metadata": {},
     "output_type": "execute_result"
    }
   ],
   "source": [
    "#subset model train accuracy\n",
    "\n",
    "model.score(X_train,y_train)"
   ]
  },
  {
   "cell_type": "code",
   "execution_count": 21,
   "metadata": {},
   "outputs": [],
   "source": [
    "# Membuat model Decision Tree\n",
    "dt_model = DecisionTreeClassifier(random_state=42)"
   ]
  },
  {
   "cell_type": "code",
   "execution_count": 22,
   "metadata": {},
   "outputs": [
    {
     "name": "stdout",
     "output_type": "stream",
     "text": [
      "K-Fold Cross-Validation Scores: [0.67401619 0.68406363 0.68322635 0.67596986 0.68294725 0.66452693\n",
      " 0.66703879 0.68518002 0.68509213 0.67085427]\n",
      "Average CV Accuracy: 0.6772915419033955\n"
     ]
    }
   ],
   "source": [
    "# Melakukan k-fold cross-validation\n",
    "from sklearn.model_selection import cross_val_score\n",
    "k_fold = 10  # Misalnya 5-fold\n",
    "cv_scores = cross_val_score(dt_model, X_train, y_train, cv=k_fold, scoring='accuracy')\n",
    "\n",
    "print(f\"K-Fold Cross-Validation Scores: {cv_scores}\")\n",
    "print(f\"Average CV Accuracy: {cv_scores.mean()}\")"
   ]
  },
  {
   "cell_type": "code",
   "execution_count": 23,
   "metadata": {},
   "outputs": [
    {
     "data": {
      "text/html": [
       "<style>#sk-container-id-2 {color: black;}#sk-container-id-2 pre{padding: 0;}#sk-container-id-2 div.sk-toggleable {background-color: white;}#sk-container-id-2 label.sk-toggleable__label {cursor: pointer;display: block;width: 100%;margin-bottom: 0;padding: 0.3em;box-sizing: border-box;text-align: center;}#sk-container-id-2 label.sk-toggleable__label-arrow:before {content: \"▸\";float: left;margin-right: 0.25em;color: #696969;}#sk-container-id-2 label.sk-toggleable__label-arrow:hover:before {color: black;}#sk-container-id-2 div.sk-estimator:hover label.sk-toggleable__label-arrow:before {color: black;}#sk-container-id-2 div.sk-toggleable__content {max-height: 0;max-width: 0;overflow: hidden;text-align: left;background-color: #f0f8ff;}#sk-container-id-2 div.sk-toggleable__content pre {margin: 0.2em;color: black;border-radius: 0.25em;background-color: #f0f8ff;}#sk-container-id-2 input.sk-toggleable__control:checked~div.sk-toggleable__content {max-height: 200px;max-width: 100%;overflow: auto;}#sk-container-id-2 input.sk-toggleable__control:checked~label.sk-toggleable__label-arrow:before {content: \"▾\";}#sk-container-id-2 div.sk-estimator input.sk-toggleable__control:checked~label.sk-toggleable__label {background-color: #d4ebff;}#sk-container-id-2 div.sk-label input.sk-toggleable__control:checked~label.sk-toggleable__label {background-color: #d4ebff;}#sk-container-id-2 input.sk-hidden--visually {border: 0;clip: rect(1px 1px 1px 1px);clip: rect(1px, 1px, 1px, 1px);height: 1px;margin: -1px;overflow: hidden;padding: 0;position: absolute;width: 1px;}#sk-container-id-2 div.sk-estimator {font-family: monospace;background-color: #f0f8ff;border: 1px dotted black;border-radius: 0.25em;box-sizing: border-box;margin-bottom: 0.5em;}#sk-container-id-2 div.sk-estimator:hover {background-color: #d4ebff;}#sk-container-id-2 div.sk-parallel-item::after {content: \"\";width: 100%;border-bottom: 1px solid gray;flex-grow: 1;}#sk-container-id-2 div.sk-label:hover label.sk-toggleable__label {background-color: #d4ebff;}#sk-container-id-2 div.sk-serial::before {content: \"\";position: absolute;border-left: 1px solid gray;box-sizing: border-box;top: 0;bottom: 0;left: 50%;z-index: 0;}#sk-container-id-2 div.sk-serial {display: flex;flex-direction: column;align-items: center;background-color: white;padding-right: 0.2em;padding-left: 0.2em;position: relative;}#sk-container-id-2 div.sk-item {position: relative;z-index: 1;}#sk-container-id-2 div.sk-parallel {display: flex;align-items: stretch;justify-content: center;background-color: white;position: relative;}#sk-container-id-2 div.sk-item::before, #sk-container-id-2 div.sk-parallel-item::before {content: \"\";position: absolute;border-left: 1px solid gray;box-sizing: border-box;top: 0;bottom: 0;left: 50%;z-index: -1;}#sk-container-id-2 div.sk-parallel-item {display: flex;flex-direction: column;z-index: 1;position: relative;background-color: white;}#sk-container-id-2 div.sk-parallel-item:first-child::after {align-self: flex-end;width: 50%;}#sk-container-id-2 div.sk-parallel-item:last-child::after {align-self: flex-start;width: 50%;}#sk-container-id-2 div.sk-parallel-item:only-child::after {width: 0;}#sk-container-id-2 div.sk-dashed-wrapped {border: 1px dashed gray;margin: 0 0.4em 0.5em 0.4em;box-sizing: border-box;padding-bottom: 0.4em;background-color: white;}#sk-container-id-2 div.sk-label label {font-family: monospace;font-weight: bold;display: inline-block;line-height: 1.2em;}#sk-container-id-2 div.sk-label-container {text-align: center;}#sk-container-id-2 div.sk-container {/* jupyter's `normalize.less` sets `[hidden] { display: none; }` but bootstrap.min.css set `[hidden] { display: none !important; }` so we also need the `!important` here to be able to override the default hidden behavior on the sphinx rendered scikit-learn.org. See: https://github.com/scikit-learn/scikit-learn/issues/21755 */display: inline-block !important;position: relative;}#sk-container-id-2 div.sk-text-repr-fallback {display: none;}</style><div id=\"sk-container-id-2\" class=\"sk-top-container\"><div class=\"sk-text-repr-fallback\"><pre>DecisionTreeClassifier(random_state=42)</pre><b>In a Jupyter environment, please rerun this cell to show the HTML representation or trust the notebook. <br />On GitHub, the HTML representation is unable to render, please try loading this page with nbviewer.org.</b></div><div class=\"sk-container\" hidden><div class=\"sk-item\"><div class=\"sk-estimator sk-toggleable\"><input class=\"sk-toggleable__control sk-hidden--visually\" id=\"sk-estimator-id-2\" type=\"checkbox\" checked><label for=\"sk-estimator-id-2\" class=\"sk-toggleable__label sk-toggleable__label-arrow\">DecisionTreeClassifier</label><div class=\"sk-toggleable__content\"><pre>DecisionTreeClassifier(random_state=42)</pre></div></div></div></div></div>"
      ],
      "text/plain": [
       "DecisionTreeClassifier(random_state=42)"
      ]
     },
     "execution_count": 23,
     "metadata": {},
     "output_type": "execute_result"
    }
   ],
   "source": [
    "# Melatih model  \n",
    "dt_model.fit(X_train, y_train)"
   ]
  },
  {
   "cell_type": "code",
   "execution_count": 26,
   "metadata": {},
   "outputs": [
    {
     "name": "stdout",
     "output_type": "stream",
     "text": [
      "Accuracy on Test Set: 0.6714668452779639\n",
      "Classification Report:\n",
      "              precision    recall  f1-score   support\n",
      "\n",
      "           0       0.67      0.68      0.67      4479\n",
      "           1       0.67      0.67      0.67      4479\n",
      "\n",
      "    accuracy                           0.67      8958\n",
      "   macro avg       0.67      0.67      0.67      8958\n",
      "weighted avg       0.67      0.67      0.67      8958\n",
      "\n",
      "Confusion Matrix:\n",
      "[[3030 1449]\n",
      " [1494 2985]]\n"
     ]
    }
   ],
   "source": [
    "from sklearn.metrics import accuracy_score, precision_score, recall_score, f1_score, classification_report\n",
    "# Evaluasi model pada data uji\n",
    "y_pred = dt_model.predict(X_test)\n",
    "\n",
    "print(\"Accuracy on Test Set:\", accuracy_score(y_test, y_pred))\n",
    "print(\"Classification Report:\")\n",
    "print(classification_report(y_test, y_pred))\n",
    "print(\"Confusion Matrix:\")\n",
    "print(confusion_matrix(y_test, y_pred))"
   ]
  },
  {
   "cell_type": "code",
   "execution_count": 27,
   "metadata": {},
   "outputs": [
    {
     "name": "stdout",
     "output_type": "stream",
     "text": [
      "Fitting 5 folds for each of 216 candidates, totalling 1080 fits\n",
      "Best Parameters: {'criterion': 'entropy', 'max_depth': 10, 'max_features': None, 'min_samples_leaf': 1, 'min_samples_split': 5}\n",
      "Best Cross-Validation Accuracy: 0.7547728193868892\n",
      "Accuracy on Test Set: 0.7505023442732753\n",
      "Classification Report:\n",
      "              precision    recall  f1-score   support\n",
      "\n",
      "           0       0.79      0.68      0.73      4479\n",
      "           1       0.72      0.82      0.77      4479\n",
      "\n",
      "    accuracy                           0.75      8958\n",
      "   macro avg       0.76      0.75      0.75      8958\n",
      "weighted avg       0.76      0.75      0.75      8958\n",
      "\n",
      "Confusion Matrix:\n",
      "[[3063 1416]\n",
      " [ 819 3660]]\n"
     ]
    }
   ],
   "source": [
    "# Import libraries\n",
    "from sklearn.tree import DecisionTreeClassifier\n",
    "from sklearn.model_selection import GridSearchCV\n",
    "from sklearn.metrics import accuracy_score, classification_report, confusion_matrix\n",
    "\n",
    "# Definisikan parameter grid untuk Decision Tree\n",
    "param_grid = {\n",
    "    'criterion': ['gini', 'entropy'],                # Fungsi impurity\n",
    "    'max_depth': [3, 5, 10, None],                   # Kedalaman maksimum tree\n",
    "    'min_samples_split': [2, 5, 10],                 # Minimum jumlah sampel untuk split\n",
    "    'min_samples_leaf': [1, 2, 5],                   # Minimum jumlah sampel di leaf node\n",
    "    'max_features': [None, 'sqrt', 'log2']           # Fitur yang dipertimbangkan di setiap split\n",
    "}\n",
    "\n",
    "# Inisialisasi model Decision Tree\n",
    "dt_model = DecisionTreeClassifier(random_state=42)\n",
    "\n",
    "# GridSearchCV untuk hyperparameter tuning\n",
    "grid_search = GridSearchCV(\n",
    "    estimator=dt_model, \n",
    "    param_grid=param_grid, \n",
    "    scoring='accuracy', \n",
    "    cv=5,  # 5-fold cross-validation\n",
    "    n_jobs=-1,  # Gunakan semua core untuk parallel processing\n",
    "    verbose=1\n",
    ")\n",
    "\n",
    "# Fit GridSearchCV pada data latih (resampled)\n",
    "grid_search.fit(X_train, y_train)\n",
    "\n",
    "# Tampilkan hasil terbaik\n",
    "print(\"Best Parameters:\", grid_search.best_params_)\n",
    "print(\"Best Cross-Validation Accuracy:\", grid_search.best_score_)\n",
    "\n",
    "# Gunakan model terbaik untuk prediksi pada data uji\n",
    "best_dt_model = grid_search.best_estimator_\n",
    "y_pred = best_dt_model.predict(X_test)\n",
    "\n",
    "# Evaluasi performa model terbaik\n",
    "print(\"Accuracy on Test Set:\", accuracy_score(y_test, y_pred))\n",
    "print(\"Classification Report:\")\n",
    "print(classification_report(y_test, y_pred))\n",
    "print(\"Confusion Matrix:\")\n",
    "print(confusion_matrix(y_test, y_pred))\n"
   ]
  },
  {
   "cell_type": "code",
   "execution_count": 28,
   "metadata": {},
   "outputs": [
    {
     "name": "stdout",
     "output_type": "stream",
     "text": [
      "Final Model Accuracy on Test Set: 0.7505023442732753\n",
      "Classification Report:\n",
      "              precision    recall  f1-score   support\n",
      "\n",
      "           0       0.79      0.68      0.73      4479\n",
      "           1       0.72      0.82      0.77      4479\n",
      "\n",
      "    accuracy                           0.75      8958\n",
      "   macro avg       0.76      0.75      0.75      8958\n",
      "weighted avg       0.76      0.75      0.75      8958\n",
      "\n",
      "Confusion Matrix:\n",
      "[[3063 1416]\n",
      " [ 819 3660]]\n"
     ]
    }
   ],
   "source": [
    "# Gunakan model terbaik dari GridSearchCV\n",
    "final_model = grid_search.best_estimator_\n",
    "\n",
    "# Latih model dengan data latih yang sudah di-undersample\n",
    "final_model.fit(X_train, y_train)\n",
    "\n",
    "# Prediksi pada data uji\n",
    "y_final_pred = final_model.predict(X_test)\n",
    "\n",
    "# Evaluasi performa model pada data uji\n",
    "from sklearn.metrics import accuracy_score, classification_report, confusion_matrix\n",
    "\n",
    "print(\"Final Model Accuracy on Test Set:\", accuracy_score(y_test, y_final_pred))\n",
    "print(\"Classification Report:\")\n",
    "print(classification_report(y_test, y_final_pred))\n",
    "print(\"Confusion Matrix:\")\n",
    "print(confusion_matrix(y_test, y_final_pred))\n"
   ]
  },
  {
   "cell_type": "code",
   "execution_count": 29,
   "metadata": {},
   "outputs": [],
   "source": [
    "import pickle\n",
    "\n",
    "# Simpan model\n",
    "with open('final_dt-undersampling.pkl', 'wb') as f:\n",
    "    pickle.dump(final_model, f)\n",
    "\n"
   ]
  },
  {
   "cell_type": "code",
   "execution_count": 34,
   "metadata": {},
   "outputs": [
    {
     "name": "stdout",
     "output_type": "stream",
     "text": [
      "akurasi data training = 0.7461761750586133\n",
      "akurasi data testing = 0.7457021656619781 \n",
      "\n",
      "confusion matrix : \n",
      "[[2972 1507]\n",
      " [ 771 3708]]\n",
      "\n",
      "classification report : \n",
      "               precision    recall  f1-score   support\n",
      "\n",
      "           0       0.79      0.66      0.72      4479\n",
      "           1       0.71      0.83      0.77      4479\n",
      "\n",
      "    accuracy                           0.75      8958\n",
      "   macro avg       0.75      0.75      0.74      8958\n",
      "weighted avg       0.75      0.75      0.74      8958\n",
      "\n"
     ]
    }
   ],
   "source": [
    "from sklearn.metrics import accuracy_score, confusion_matrix, classification_report\n",
    "from sklearn.tree import DecisionTreeClassifier\n",
    "from sklearn import tree\n",
    "\n",
    "dtc = DecisionTreeClassifier (\n",
    "    ccp_alpha=0.0, class_weight=None, criterion='entropy', \n",
    "    max_depth=4, max_features=None, max_leaf_nodes=None,\n",
    "    min_impurity_decrease=0.0, min_samples_leaf=1,\n",
    "    min_samples_split=2, min_weight_fraction_leaf=0.0,\n",
    "    random_state=42, splitter='best'\n",
    ")\n",
    "\n",
    "model = dtc.fit(X_train, y_train)\n",
    "\n",
    "dtc_acc = accuracy_score(y_test, dtc.predict(X_test))\n",
    "\n",
    "print(f\"akurasi data training = {accuracy_score(y_train, dtc.predict(X_train))}\")\n",
    "print(f\"akurasi data testing = {dtc_acc} \\n\")\n",
    "\n",
    "print(f\"confusion matrix : \\n{confusion_matrix(y_test, dtc.predict(X_test))}\\n\")\n",
    "confusion = confusion_matrix(y_test, dtc.predict(X_test))\n",
    "tn, fp, fn, tp = confusion.ravel()\n",
    "print(f\"classification report : \\n {classification_report(y_test, dtc.predict(X_test))}\")"
   ]
  },
  {
   "cell_type": "code",
   "execution_count": 35,
   "metadata": {},
   "outputs": [
    {
     "name": "stdout",
     "output_type": "stream",
     "text": [
      "Fitting 5 folds for each of 90 candidates, totalling 450 fits\n"
     ]
    },
    {
     "name": "stdout",
     "output_type": "stream",
     "text": [
      "Best Parameters: {'criterion': 'entropy', 'max_depth': 10, 'min_samples_leaf': 1, 'min_samples_split': 5}\n",
      "Classification Report:\n",
      "              precision    recall  f1-score   support\n",
      "\n",
      "           0       0.79      0.68      0.73      4479\n",
      "           1       0.72      0.82      0.77      4479\n",
      "\n",
      "    accuracy                           0.75      8958\n",
      "   macro avg       0.76      0.75      0.75      8958\n",
      "weighted avg       0.76      0.75      0.75      8958\n",
      "\n",
      "Accuracy: 0.7505023442732753\n"
     ]
    }
   ],
   "source": [
    "# tuning dengan undersampling\n",
    "from sklearn.tree import DecisionTreeClassifier\n",
    "from sklearn.model_selection import GridSearchCV\n",
    "from sklearn.metrics import accuracy_score, classification_report\n",
    "\n",
    "# Inisialisasi model Decision Tree\n",
    "dt = DecisionTreeClassifier(random_state=42)\n",
    "\n",
    "# Definisi parameter grid\n",
    "param_grid = {\n",
    "    'criterion': ['gini', 'entropy'],  # Kriteria pembagian\n",
    "    'max_depth': [None, 5, 10, 20, 30],  # Kedalaman maksimum\n",
    "    'min_samples_split': [2, 5, 10],  # Jumlah minimum sampel untuk split\n",
    "    'min_samples_leaf': [1, 2, 4],  # Jumlah minimum sampel di daun\n",
    "}\n",
    "\n",
    "# Inisialisasi GridSearchCV\n",
    "grid = GridSearchCV(estimator=dt, param_grid=param_grid, \n",
    "                    scoring='accuracy', verbose=2, n_jobs=-1)\n",
    "\n",
    "# Melatih GridSearchCV pada data pelatihan\n",
    "grid.fit(X_train, y_train)\n",
    "\n",
    "# Menampilkan parameter terbaik\n",
    "print(\"Best Parameters:\", grid.best_params_)\n",
    "\n",
    "# Evaluasi model terbaik pada data uji\n",
    "best_model = grid.best_estimator_\n",
    "y_pred = best_model.predict(X_test)\n",
    "\n",
    "# Laporan hasil\n",
    "print(\"Classification Report:\")\n",
    "print(classification_report(y_test, y_pred))\n",
    "print(\"Accuracy:\", accuracy_score(y_test, y_pred))\n"
   ]
  },
  {
   "cell_type": "code",
   "execution_count": 36,
   "metadata": {},
   "outputs": [
    {
     "data": {
      "text/html": [
       "<style>#sk-container-id-3 {color: black;}#sk-container-id-3 pre{padding: 0;}#sk-container-id-3 div.sk-toggleable {background-color: white;}#sk-container-id-3 label.sk-toggleable__label {cursor: pointer;display: block;width: 100%;margin-bottom: 0;padding: 0.3em;box-sizing: border-box;text-align: center;}#sk-container-id-3 label.sk-toggleable__label-arrow:before {content: \"▸\";float: left;margin-right: 0.25em;color: #696969;}#sk-container-id-3 label.sk-toggleable__label-arrow:hover:before {color: black;}#sk-container-id-3 div.sk-estimator:hover label.sk-toggleable__label-arrow:before {color: black;}#sk-container-id-3 div.sk-toggleable__content {max-height: 0;max-width: 0;overflow: hidden;text-align: left;background-color: #f0f8ff;}#sk-container-id-3 div.sk-toggleable__content pre {margin: 0.2em;color: black;border-radius: 0.25em;background-color: #f0f8ff;}#sk-container-id-3 input.sk-toggleable__control:checked~div.sk-toggleable__content {max-height: 200px;max-width: 100%;overflow: auto;}#sk-container-id-3 input.sk-toggleable__control:checked~label.sk-toggleable__label-arrow:before {content: \"▾\";}#sk-container-id-3 div.sk-estimator input.sk-toggleable__control:checked~label.sk-toggleable__label {background-color: #d4ebff;}#sk-container-id-3 div.sk-label input.sk-toggleable__control:checked~label.sk-toggleable__label {background-color: #d4ebff;}#sk-container-id-3 input.sk-hidden--visually {border: 0;clip: rect(1px 1px 1px 1px);clip: rect(1px, 1px, 1px, 1px);height: 1px;margin: -1px;overflow: hidden;padding: 0;position: absolute;width: 1px;}#sk-container-id-3 div.sk-estimator {font-family: monospace;background-color: #f0f8ff;border: 1px dotted black;border-radius: 0.25em;box-sizing: border-box;margin-bottom: 0.5em;}#sk-container-id-3 div.sk-estimator:hover {background-color: #d4ebff;}#sk-container-id-3 div.sk-parallel-item::after {content: \"\";width: 100%;border-bottom: 1px solid gray;flex-grow: 1;}#sk-container-id-3 div.sk-label:hover label.sk-toggleable__label {background-color: #d4ebff;}#sk-container-id-3 div.sk-serial::before {content: \"\";position: absolute;border-left: 1px solid gray;box-sizing: border-box;top: 0;bottom: 0;left: 50%;z-index: 0;}#sk-container-id-3 div.sk-serial {display: flex;flex-direction: column;align-items: center;background-color: white;padding-right: 0.2em;padding-left: 0.2em;position: relative;}#sk-container-id-3 div.sk-item {position: relative;z-index: 1;}#sk-container-id-3 div.sk-parallel {display: flex;align-items: stretch;justify-content: center;background-color: white;position: relative;}#sk-container-id-3 div.sk-item::before, #sk-container-id-3 div.sk-parallel-item::before {content: \"\";position: absolute;border-left: 1px solid gray;box-sizing: border-box;top: 0;bottom: 0;left: 50%;z-index: -1;}#sk-container-id-3 div.sk-parallel-item {display: flex;flex-direction: column;z-index: 1;position: relative;background-color: white;}#sk-container-id-3 div.sk-parallel-item:first-child::after {align-self: flex-end;width: 50%;}#sk-container-id-3 div.sk-parallel-item:last-child::after {align-self: flex-start;width: 50%;}#sk-container-id-3 div.sk-parallel-item:only-child::after {width: 0;}#sk-container-id-3 div.sk-dashed-wrapped {border: 1px dashed gray;margin: 0 0.4em 0.5em 0.4em;box-sizing: border-box;padding-bottom: 0.4em;background-color: white;}#sk-container-id-3 div.sk-label label {font-family: monospace;font-weight: bold;display: inline-block;line-height: 1.2em;}#sk-container-id-3 div.sk-label-container {text-align: center;}#sk-container-id-3 div.sk-container {/* jupyter's `normalize.less` sets `[hidden] { display: none; }` but bootstrap.min.css set `[hidden] { display: none !important; }` so we also need the `!important` here to be able to override the default hidden behavior on the sphinx rendered scikit-learn.org. See: https://github.com/scikit-learn/scikit-learn/issues/21755 */display: inline-block !important;position: relative;}#sk-container-id-3 div.sk-text-repr-fallback {display: none;}</style><div id=\"sk-container-id-3\" class=\"sk-top-container\"><div class=\"sk-text-repr-fallback\"><pre>DecisionTreeClassifier(max_depth=5)</pre><b>In a Jupyter environment, please rerun this cell to show the HTML representation or trust the notebook. <br />On GitHub, the HTML representation is unable to render, please try loading this page with nbviewer.org.</b></div><div class=\"sk-container\" hidden><div class=\"sk-item\"><div class=\"sk-estimator sk-toggleable\"><input class=\"sk-toggleable__control sk-hidden--visually\" id=\"sk-estimator-id-3\" type=\"checkbox\" checked><label for=\"sk-estimator-id-3\" class=\"sk-toggleable__label sk-toggleable__label-arrow\">DecisionTreeClassifier</label><div class=\"sk-toggleable__content\"><pre>DecisionTreeClassifier(max_depth=5)</pre></div></div></div></div></div>"
      ],
      "text/plain": [
       "DecisionTreeClassifier(max_depth=5)"
      ]
     },
     "execution_count": 36,
     "metadata": {},
     "output_type": "execute_result"
    }
   ],
   "source": [
    "dt = DecisionTreeClassifier(max_depth=5)\n",
    "dt.fit(X_train, y_train)"
   ]
  },
  {
   "cell_type": "code",
   "execution_count": 38,
   "metadata": {},
   "outputs": [
    {
     "name": "stdout",
     "output_type": "stream",
     "text": [
      "Fitting 5 folds for each of 90 candidates, totalling 450 fits\n",
      "Best Parameters: {'criterion': 'entropy', 'max_depth': 10, 'min_samples_leaf': 1, 'min_samples_split': 5}\n",
      "Classification Report:\n",
      "              precision    recall  f1-score   support\n",
      "\n",
      "           0       0.79      0.68      0.73      4479\n",
      "           1       0.72      0.82      0.77      4479\n",
      "\n",
      "    accuracy                           0.75      8958\n",
      "   macro avg       0.76      0.75      0.75      8958\n",
      "weighted avg       0.76      0.75      0.75      8958\n",
      "\n",
      "Accuracy: 0.7505023442732753\n"
     ]
    }
   ],
   "source": [
    "# tuning dengan undersampling\n",
    "from sklearn.tree import DecisionTreeClassifier\n",
    "from sklearn.model_selection import GridSearchCV\n",
    "from sklearn.metrics import accuracy_score, classification_report\n",
    "\n",
    "# Inisialisasi model Decision Tree\n",
    "dt = DecisionTreeClassifier(random_state=42)\n",
    "\n",
    "# Definisi parameter grid\n",
    "param_grid = {\n",
    "    'criterion': ['gini', 'entropy'],  # Kriteria pembagian\n",
    "    'max_depth': [None, 5, 10, 20, 30],  # Kedalaman maksimum\n",
    "    'min_samples_split': [2, 5, 10],  # Jumlah minimum sampel untuk split\n",
    "    'min_samples_leaf': [1, 2, 4],  # Jumlah minimum sampel di daun\n",
    "}\n",
    "\n",
    "# Inisialisasi GridSearchCV\n",
    "grid = GridSearchCV(estimator=dt, param_grid=param_grid, \n",
    "                    scoring='accuracy', cv=5, verbose=2, n_jobs=-1)\n",
    "\n",
    "# Melatih GridSearchCV pada data pelatihan\n",
    "grid.fit(X_train, y_train)\n",
    "\n",
    "# Menampilkan parameter terbaik\n",
    "print(\"Best Parameters:\", grid.best_params_)\n",
    "\n",
    "# Evaluasi model terbaik pada data uji\n",
    "best_model = grid.best_estimator_\n",
    "y_pred = best_model.predict(X_test)\n",
    "\n",
    "# Laporan hasil\n",
    "print(\"Classification Report:\")\n",
    "print(classification_report(y_test, y_pred))\n",
    "print(\"Accuracy:\", accuracy_score(y_test, y_pred))\n"
   ]
  },
  {
   "cell_type": "code",
   "execution_count": 40,
   "metadata": {},
   "outputs": [
    {
     "name": "stdout",
     "output_type": "stream",
     "text": [
      "Fold 1\n",
      "              precision    recall  f1-score   support\n",
      "\n",
      "           0       0.67      0.68      0.67      2255\n",
      "           1       0.67      0.66      0.66      2224\n",
      "\n",
      "    accuracy                           0.67      4479\n",
      "   macro avg       0.67      0.67      0.67      4479\n",
      "weighted avg       0.67      0.67      0.67      4479\n",
      "\n",
      "Accuracy: 0.67\n",
      "\n",
      "Fold 2\n",
      "              precision    recall  f1-score   support\n",
      "\n",
      "           0       0.67      0.68      0.67      2244\n",
      "           1       0.67      0.66      0.66      2235\n",
      "\n",
      "    accuracy                           0.67      4479\n",
      "   macro avg       0.67      0.67      0.67      4479\n",
      "weighted avg       0.67      0.67      0.67      4479\n",
      "\n",
      "Accuracy: 0.67\n",
      "\n",
      "Fold 3\n",
      "              precision    recall  f1-score   support\n",
      "\n",
      "           0       0.67      0.69      0.68      2236\n",
      "           1       0.68      0.66      0.67      2243\n",
      "\n",
      "    accuracy                           0.68      4479\n",
      "   macro avg       0.68      0.68      0.68      4479\n",
      "weighted avg       0.68      0.68      0.68      4479\n",
      "\n",
      "Accuracy: 0.68\n",
      "\n",
      "Fold 4\n",
      "              precision    recall  f1-score   support\n",
      "\n",
      "           0       0.67      0.67      0.67      2242\n",
      "           1       0.67      0.67      0.67      2237\n",
      "\n",
      "    accuracy                           0.67      4479\n",
      "   macro avg       0.67      0.67      0.67      4479\n",
      "weighted avg       0.67      0.67      0.67      4479\n",
      "\n",
      "Accuracy: 0.67\n",
      "\n",
      "Fold 5\n",
      "              precision    recall  f1-score   support\n",
      "\n",
      "           0       0.66      0.69      0.67      2170\n",
      "           1       0.69      0.67      0.68      2309\n",
      "\n",
      "    accuracy                           0.68      4479\n",
      "   macro avg       0.68      0.68      0.68      4479\n",
      "weighted avg       0.68      0.68      0.68      4479\n",
      "\n",
      "Accuracy: 0.68\n",
      "\n",
      "Fold 6\n",
      "              precision    recall  f1-score   support\n",
      "\n",
      "           0       0.67      0.67      0.67      2273\n",
      "           1       0.66      0.66      0.66      2206\n",
      "\n",
      "    accuracy                           0.67      4479\n",
      "   macro avg       0.67      0.67      0.67      4479\n",
      "weighted avg       0.67      0.67      0.67      4479\n",
      "\n",
      "Accuracy: 0.67\n",
      "\n",
      "Fold 7\n",
      "              precision    recall  f1-score   support\n",
      "\n",
      "           0       0.67      0.68      0.68      2212\n",
      "           1       0.68      0.68      0.68      2266\n",
      "\n",
      "    accuracy                           0.68      4478\n",
      "   macro avg       0.68      0.68      0.68      4478\n",
      "weighted avg       0.68      0.68      0.68      4478\n",
      "\n",
      "Accuracy: 0.68\n",
      "\n",
      "Fold 8\n",
      "              precision    recall  f1-score   support\n",
      "\n",
      "           0       0.66      0.68      0.67      2237\n",
      "           1       0.67      0.66      0.66      2241\n",
      "\n",
      "    accuracy                           0.67      4478\n",
      "   macro avg       0.67      0.67      0.67      4478\n",
      "weighted avg       0.67      0.67      0.67      4478\n",
      "\n",
      "Accuracy: 0.67\n",
      "\n",
      "Fold 9\n",
      "              precision    recall  f1-score   support\n",
      "\n",
      "           0       0.68      0.69      0.69      2286\n",
      "           1       0.67      0.67      0.67      2192\n",
      "\n",
      "    accuracy                           0.68      4478\n",
      "   macro avg       0.68      0.68      0.68      4478\n",
      "weighted avg       0.68      0.68      0.68      4478\n",
      "\n",
      "Accuracy: 0.68\n",
      "\n",
      "Fold 10\n",
      "              precision    recall  f1-score   support\n",
      "\n",
      "           0       0.67      0.68      0.68      2238\n",
      "           1       0.68      0.67      0.67      2240\n",
      "\n",
      "    accuracy                           0.68      4478\n",
      "   macro avg       0.68      0.68      0.68      4478\n",
      "weighted avg       0.68      0.68      0.68      4478\n",
      "\n",
      "Accuracy: 0.68\n",
      "\n",
      "Mean Accuracy: 0.67\n",
      "Cross-Validation Accuracy Scores: [0.66934584 0.66711319 0.67782987 0.66800625 0.67760661 0.6664434\n",
      " 0.67820456 0.66703886 0.67775793 0.67641804]\n",
      "Mean Cross-Validation Accuracy: 0.67\n"
     ]
    }
   ],
   "source": [
    "## kode dengan undersampling langsung k-fold\n",
    "# Import library yang dibutuhkan\n",
    "import numpy as np\n",
    "import pandas as pd\n",
    "from sklearn.model_selection import KFold, cross_val_score\n",
    "from sklearn.tree import DecisionTreeClassifier\n",
    "from sklearn.metrics import accuracy_score, classification_report\n",
    "from imblearn.under_sampling import RandomUnderSampler\n",
    "\n",
    "# Membagi dataset resampled menjadi train dan test set (90% train, 10% test)\n",
    "X_train, X_test, y_train, y_test = train_test_split(X_resampled, y_resampled, test_size=0.2, random_state=42)\n",
    "\n",
    "# Melakukan undersampling pada dataset\n",
    "undersampler = RandomUnderSampler(random_state=42)\n",
    "X_resampled, y_resampled = undersampler.fit_resample(X, y)\n",
    "\n",
    "# Inisialisasi KFold dengan k=10\n",
    "kf = KFold(n_splits=10, shuffle=True, random_state=42)\n",
    "\n",
    "# Inisialisasi model Decision Tree\n",
    "dt = DecisionTreeClassifier(random_state=42)\n",
    "\n",
    "# List untuk menyimpan metrik\n",
    "accuracies = []\n",
    "\n",
    "# Melakukan K-Fold Cross-Validation\n",
    "for train_index, test_index in kf.split(X_resampled):\n",
    "    # Menggunakan .iloc untuk mengakses baris berdasarkan indeks\n",
    "    X_train, X_test = X_resampled.iloc[train_index], X_resampled.iloc[test_index]\n",
    "    y_train, y_test = y_resampled.iloc[train_index], y_resampled.iloc[test_index]\n",
    "    \n",
    "    # Train the model\n",
    "    dt.fit(X_train, y_train)\n",
    "    \n",
    "    # Make predictions\n",
    "    y_pred = dt.predict(X_test)\n",
    "    \n",
    "    # Calculate accuracy\n",
    "    accuracy = accuracy_score(y_test, y_pred)\n",
    "    accuracies.append(accuracy)\n",
    "    \n",
    "    # Print classification report for each fold\n",
    "    print(f\"Fold {len(accuracies)}\")\n",
    "    print(classification_report(y_test, y_pred))\n",
    "    print(f\"Accuracy: {accuracy:.2f}\")\n",
    "    print(\"\")\n",
    "\n",
    "# Calculate the mean accuracy across all folds\n",
    "mean_accuracy = np.mean(accuracies)\n",
    "print(f\"Mean Accuracy: {mean_accuracy:.2f}\")\n",
    "\n",
    "# Optional: Using cross_val_score for a simpler approach\n",
    "scores = cross_val_score(dt, X_resampled, y_resampled, cv=kf)\n",
    "print(f\"Cross-Validation Accuracy Scores: {scores}\")\n",
    "print(f\"Mean Cross-Validation Accuracy: {scores.mean():.2f}\")"
   ]
  },
  {
   "cell_type": "code",
   "execution_count": 41,
   "metadata": {},
   "outputs": [
    {
     "name": "stdout",
     "output_type": "stream",
     "text": [
      "Best parameters found: {'splitter': 'random', 'min_samples_split': 2, 'min_samples_leaf': 1, 'max_features': None, 'max_depth': 10, 'criterion': 'entropy'}\n",
      "Best cross-validation accuracy: 0.7540438231912577\n"
     ]
    }
   ],
   "source": [
    "from sklearn.tree import DecisionTreeClassifier\n",
    "from sklearn.model_selection import RandomizedSearchCV\n",
    "from scipy.stats import randint\n",
    "\n",
    "# Inisialisasi model Decision Tree\n",
    "dt = DecisionTreeClassifier()\n",
    "\n",
    "# Tentukan ruang hyperparameter\n",
    "param_dist = {\n",
    "    'criterion': ['gini', 'entropy'],\n",
    "    'splitter': ['best', 'random'],\n",
    "    'max_depth': [None, 5, 10, 15],\n",
    "    'min_samples_split': [2, 5, 10],\n",
    "    'min_samples_leaf': [1, 2, 4],\n",
    "    'max_features': [None, 'sqrt', 'log2'],         # Metode pembagian node\n",
    "}\n",
    "\n",
    "# Inisialisasi RandomizedSearchCV\n",
    "random_search = RandomizedSearchCV(\n",
    "    estimator=dt,\n",
    "    param_distributions=param_dist,\n",
    "    n_iter=50,  # Jumlah kombinasi yang diuji\n",
    "    cv=5,       # Jumlah fold untuk cross-validation\n",
    "    scoring='accuracy',  # Metrik evaluasi\n",
    "    random_state=42,\n",
    "    n_jobs=-1  # Gunakan semua core CPU yang tersedia\n",
    ")\n",
    "\n",
    "# Fit RandomizedSearch ke data\n",
    "random_search.fit(X_train, y_train)\n",
    "\n",
    "# Hasil hyperparameter terbaik\n",
    "print(\"Best parameters found:\", random_search.best_params_)\n",
    "print(\"Best cross-validation accuracy:\", random_search.best_score_)"
   ]
  },
  {
   "cell_type": "code",
   "execution_count": 42,
   "metadata": {},
   "outputs": [
    {
     "name": "stdout",
     "output_type": "stream",
     "text": [
      "Accuracy: 0.7724\n",
      "Precision: 0.7347\n",
      "Recall: 0.8531\n",
      "F1-Score: 0.7895\n",
      "ROC-AUC: 0.8410\n",
      "\n",
      "Confusion Matrix:\n",
      "[[1548  690]\n",
      " [ 329 1911]]\n",
      "\n",
      "Classification Report:\n",
      "              precision    recall  f1-score   support\n",
      "\n",
      "           0       0.82      0.69      0.75      2238\n",
      "           1       0.73      0.85      0.79      2240\n",
      "\n",
      "    accuracy                           0.77      4478\n",
      "   macro avg       0.78      0.77      0.77      4478\n",
      "weighted avg       0.78      0.77      0.77      4478\n",
      "\n"
     ]
    },
    {
     "data": {
      "image/png": "[encoded data removed]",
      "text/plain": [
       "<Figure size 800x600 with 1 Axes>"
      ]
     },
     "metadata": {},
     "output_type": "display_data"
    }
   ],
   "source": [
    "from sklearn.metrics import (\n",
    "    accuracy_score,\n",
    "    precision_score,\n",
    "    recall_score,\n",
    "    f1_score,\n",
    "    confusion_matrix,\n",
    "    roc_auc_score,\n",
    "    roc_curve,\n",
    "    classification_report\n",
    ")\n",
    "import matplotlib.pyplot as plt\n",
    "\n",
    "# Prediksi pada data uji\n",
    "y_pred = final_model.predict(X_test)\n",
    "\n",
    "# Hitung metrik evaluasi\n",
    "accuracy = accuracy_score(y_test, y_pred)\n",
    "precision = precision_score(y_test, y_pred)\n",
    "recall = recall_score(y_test, y_pred)\n",
    "f1 = f1_score(y_test, y_pred)\n",
    "roc_auc = roc_auc_score(y_test, final_model.predict_proba(X_test)[:, 1])\n",
    "\n",
    "print(f\"Accuracy: {accuracy:.4f}\")\n",
    "print(f\"Precision: {precision:.4f}\")\n",
    "print(f\"Recall: {recall:.4f}\")\n",
    "print(f\"F1-Score: {f1:.4f}\")\n",
    "print(f\"ROC-AUC: {roc_auc:.4f}\")\n",
    "\n",
    "# Confusion matrix\n",
    "cm = confusion_matrix(y_test, y_pred)\n",
    "print(\"\\nConfusion Matrix:\")\n",
    "print(cm)\n",
    "\n",
    "# Classification report\n",
    "print(\"\\nClassification Report:\")\n",
    "print(classification_report(y_test, y_pred))\n",
    "\n",
    "# Plot ROC Curve\n",
    "fpr, tpr, thresholds = roc_curve(y_test, final_model.predict_proba(X_test)[:, 1])\n",
    "\n",
    "plt.figure(figsize=(8, 6))\n",
    "plt.plot(fpr, tpr, color='blue', label=f'ROC Curve (AUC = {roc_auc:.4f})')\n",
    "plt.plot([0, 1], [0, 1], color='red', linestyle='--', label='Random Classifier')\n",
    "plt.xlabel('False Positive Rate')\n",
    "plt.ylabel('True Positive Rate')\n",
    "plt.title('ROC Curve')\n",
    "plt.legend()\n",
    "plt.show()\n"
   ]
  },
  {
   "cell_type": "code",
   "execution_count": 45,
   "metadata": {},
   "outputs": [],
   "source": [
    "import pickle\n",
    "from sklearn.svm import SVC"
   ]
  },
  {
   "cell_type": "code",
   "execution_count": 46,
   "metadata": {},
   "outputs": [
    {
     "name": "stdout",
     "output_type": "stream",
     "text": [
      "Model Decision Tree berhasil disimpan sebagai decisionTree-Undersampling.pkl\n"
     ]
    }
   ],
   "source": [
    "# Simpan model ke file .pkl\n",
    "with open('decisionTree-Undersampling.pkl', 'wb') as file:\n",
    "    pickle.dump(dt_model, file)\n",
    "\n",
    "print(\"Model Decision Tree berhasil disimpan sebagai decisionTree-Undersampling.pkl\")\n"
   ]
  },
  {
   "cell_type": "code",
   "execution_count": 56,
   "metadata": {},
   "outputs": [],
   "source": [
    "#memastikan model yang sudah dilatih sebelumnya disimpan kedalam model file .pkl, untuk memastikan model tersebut sudah dilatih menggunakan fit.\n",
    "from sklearn.tree import DecisionTreeClassifier\n",
    "import pickle\n",
    "\n",
    "# Melatih model\n",
    "dt = DecisionTreeClassifier(random_state=42)\n",
    "dt.fit(X_train, y_train)  # Pastikan X_train dan y_train tersedia\n",
    "\n",
    "# Menyimpan model yang sudah dilatih\n",
    "with open('decisionTree-Undersampling.pkl', 'wb') as file:\n",
    "    pickle.dump(dt, file)\n"
   ]
  },
  {
   "cell_type": "code",
   "execution_count": 57,
   "metadata": {},
   "outputs": [
    {
     "name": "stdout",
     "output_type": "stream",
     "text": [
      "True\n"
     ]
    }
   ],
   "source": [
    "#mengecek apakah file .pkl sudah benar terisi model yang sudah dilatih\n",
    "with open('decisionTree-Undersampling.pkl', 'rb') as file:\n",
    "    loaded_dt_model = pickle.load(file)\n",
    "\n",
    "# Periksa apakah model sudah dilatih\n",
    "print(hasattr(loaded_dt_model, \"tree_\"))  # Harus True jika model sudah dilatih\n"
   ]
  },
  {
   "cell_type": "markdown",
   "metadata": {},
   "source": [
    "## melakukan debugging"
   ]
  },
  {
   "cell_type": "code",
   "execution_count": 52,
   "metadata": {},
   "outputs": [
    {
     "name": "stdout",
     "output_type": "stream",
     "text": [
      "True\n"
     ]
    }
   ],
   "source": [
    "#memeriksa apakah file .pkl ada\n",
    "import os\n",
    "print(os.path.exists('decisionTree-Undersampling.pkl'))\n"
   ]
  },
  {
   "cell_type": "code",
   "execution_count": 53,
   "metadata": {},
   "outputs": [
    {
     "name": "stdout",
     "output_type": "stream",
     "text": [
      "<class 'sklearn.tree._classes.DecisionTreeClassifier'>\n"
     ]
    }
   ],
   "source": [
    "#memeriksa tipe objek dalam file\n",
    "with open('decisionTree-Undersampling.pkl', 'rb') as file:\n",
    "    obj = pickle.load(file)\n",
    "print(type(obj))\n"
   ]
  },
  {
   "cell_type": "code",
   "execution_count": 54,
   "metadata": {},
   "outputs": [
    {
     "name": "stdout",
     "output_type": "stream",
     "text": [
      "[ True  True  True  True  True  True  True  True  True  True  True  True\n",
      "  True  True  True  True  True]\n",
      "(4478, 17)\n"
     ]
    }
   ],
   "source": [
    "#memeriksa kolom x_test sudah sesuai\n",
    "print(X_test.columns == X_train.columns)  # Harus True\n",
    "print(X_test.shape)  # Cocok dengan jumlah fitur model\n"
   ]
  },
  {
   "cell_type": "code",
   "execution_count": 58,
   "metadata": {},
   "outputs": [
    {
     "name": "stdout",
     "output_type": "stream",
     "text": [
      "<class 'sklearn.tree._classes.DecisionTreeClassifier'>\n",
      "DecisionTreeClassifier(random_state=42)\n",
      "(4478, 17)\n"
     ]
    }
   ],
   "source": [
    "# Periksa tipe model\n",
    "print(type(loaded_dt_model))\n",
    "\n",
    "# Jika model valid, cetak detail model\n",
    "print(loaded_dt_model)\n",
    "\n",
    "# Pastikan X_test sesuai\n",
    "print(X_test.shape)  # Harus cocok dengan jumlah fitur saat melatih\n"
   ]
  },
  {
   "cell_type": "code",
   "execution_count": 59,
   "metadata": {},
   "outputs": [],
   "source": [
    "from sklearn.tree import DecisionTreeClassifier\n",
    "import pickle\n",
    "\n",
    "# Melatih model\n",
    "dt = DecisionTreeClassifier(random_state=42)\n",
    "dt.fit(X_train, y_train)  # Gunakan data training Anda\n",
    "\n",
    "# Menyimpan model yang sudah dilatih ke file\n",
    "with open('decisionTree-Undersampling.pkl', 'wb') as file:\n",
    "    pickle.dump(dt, file)\n"
   ]
  },
  {
   "cell_type": "code",
   "execution_count": 60,
   "metadata": {},
   "outputs": [
    {
     "name": "stdout",
     "output_type": "stream",
     "text": [
      "Prediksi: [0 0 0 ... 1 0 1]\n"
     ]
    }
   ],
   "source": [
    "# Muat model\n",
    "with open('decisionTree-Undersampling.pkl', 'rb') as file:\n",
    "    loaded_dt_model = pickle.load(file)\n",
    "\n",
    "# Prediksi menggunakan model\n",
    "predictions = loaded_dt_model.predict(X_test)\n",
    "print(\"Prediksi:\", predictions)\n"
   ]
  }
 ],
 "metadata": {
  "kernelspec": {
   "display_name": "Python 3",
   "language": "python",
   "name": "python3"
  },
  "language_info": {
   "codemirror_mode": {
    "name": "ipython",
    "version": 3
   },
   "file_extension": ".py",
   "mimetype": "text/x-python",
   "name": "python",
   "nbconvert_exporter": "python",
   "pygments_lexer": "ipython3",
   "version": "3.8.3"
  }
 },
 "nbformat": 4,
 "nbformat_minor": 2
}
